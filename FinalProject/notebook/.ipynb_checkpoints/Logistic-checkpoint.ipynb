{
 "cells": [
  {
   "cell_type": "code",
   "execution_count": 1,
   "metadata": {},
   "outputs": [],
   "source": [
    "import numpy as np\n",
    "import pandas as pd\n",
    "import seaborn as sns\n",
    "import matplotlib.pyplot as plt\n",
    "import nltk\n",
    "from sklearn.feature_extraction.text import CountVectorizer\n",
    "from sklearn.feature_extraction.text import TfidfVectorizer\n",
    "from sklearn.preprocessing import LabelBinarizer\n",
    "from nltk.corpus import stopwords\n",
    "from nltk.stem.porter import PorterStemmer\n",
    "from wordcloud import WordCloud,STOPWORDS\n",
    "from nltk.stem import WordNetLemmatizer\n",
    "from nltk.tokenize import word_tokenize,sent_tokenize\n",
    "from bs4 import BeautifulSoup\n",
    "import spacy\n",
    "import re,string,unicodedata\n",
    "from nltk.tokenize.toktok import ToktokTokenizer\n",
    "from nltk.stem import LancasterStemmer,WordNetLemmatizer\n",
    "from sklearn.linear_model import LogisticRegression,SGDClassifier\n",
    "from sklearn.metrics import classification_report,confusion_matrix,accuracy_score\n",
    "from scipy.stats import pearsonr, norm"
   ]
  },
  {
   "cell_type": "code",
   "execution_count": 2,
   "metadata": {},
   "outputs": [],
   "source": [
    "# load stopwords\n",
    "from sklearn.feature_extraction import text\n",
    "text_file = open('/Users/zejiachen/Desktop/fall 2021/QTM 340/Final Project/Notebook/jockers_stopwords.txt') # your path will be different!\n",
    "jockers_words = text_file.read().split()\n",
    "new_stopwords = text.ENGLISH_STOP_WORDS.union(jockers_words)"
   ]
  },
  {
   "cell_type": "code",
   "execution_count": 3,
   "metadata": {},
   "outputs": [],
   "source": [
    "# remove stemmed words\n",
    "english_stemmer = nltk.stem.SnowballStemmer('english')\n",
    "\n",
    "class StemmedCountVectorizer(CountVectorizer):\n",
    "    def build_analyzer(self):\n",
    "        analyzer = super(StemmedCountVectorizer, self).build_analyzer()\n",
    "        return lambda doc: ([english_stemmer.stem(w) for w in analyzer(doc)])"
   ]
  },
  {
   "cell_type": "code",
   "execution_count": 4,
   "metadata": {},
   "outputs": [
    {
     "data": {
      "text/html": [
       "<div>\n",
       "<style scoped>\n",
       "    .dataframe tbody tr th:only-of-type {\n",
       "        vertical-align: middle;\n",
       "    }\n",
       "\n",
       "    .dataframe tbody tr th {\n",
       "        vertical-align: top;\n",
       "    }\n",
       "\n",
       "    .dataframe thead th {\n",
       "        text-align: right;\n",
       "    }\n",
       "</style>\n",
       "<table border=\"1\" class=\"dataframe\">\n",
       "  <thead>\n",
       "    <tr style=\"text-align: right;\">\n",
       "      <th></th>\n",
       "      <th>review</th>\n",
       "      <th>sentiment</th>\n",
       "    </tr>\n",
       "  </thead>\n",
       "  <tbody>\n",
       "    <tr>\n",
       "      <th>0</th>\n",
       "      <td>One of the other reviewers has mentioned that ...</td>\n",
       "      <td>positive</td>\n",
       "    </tr>\n",
       "    <tr>\n",
       "      <th>1</th>\n",
       "      <td>A wonderful little production. &lt;br /&gt;&lt;br /&gt;The...</td>\n",
       "      <td>positive</td>\n",
       "    </tr>\n",
       "    <tr>\n",
       "      <th>2</th>\n",
       "      <td>I thought this was a wonderful way to spend ti...</td>\n",
       "      <td>positive</td>\n",
       "    </tr>\n",
       "    <tr>\n",
       "      <th>3</th>\n",
       "      <td>Basically there's a family where a little boy ...</td>\n",
       "      <td>negative</td>\n",
       "    </tr>\n",
       "    <tr>\n",
       "      <th>4</th>\n",
       "      <td>Petter Mattei's \"Love in the Time of Money\" is...</td>\n",
       "      <td>positive</td>\n",
       "    </tr>\n",
       "  </tbody>\n",
       "</table>\n",
       "</div>"
      ],
      "text/plain": [
       "                                              review sentiment\n",
       "0  One of the other reviewers has mentioned that ...  positive\n",
       "1  A wonderful little production. <br /><br />The...  positive\n",
       "2  I thought this was a wonderful way to spend ti...  positive\n",
       "3  Basically there's a family where a little boy ...  negative\n",
       "4  Petter Mattei's \"Love in the Time of Money\" is...  positive"
      ]
     },
     "execution_count": 4,
     "metadata": {},
     "output_type": "execute_result"
    }
   ],
   "source": [
    "df = pd.read_csv('/Users/zejiachen/Desktop/Sspring 2022/IMDB_Dataset.csv')\n",
    "df.head()"
   ]
  },
  {
   "cell_type": "code",
   "execution_count": 5,
   "metadata": {},
   "outputs": [
    {
     "data": {
      "text/plain": [
       "<AxesSubplot:xlabel='sentiment'>"
      ]
     },
     "execution_count": 5,
     "metadata": {},
     "output_type": "execute_result"
    },
    {
     "data": {
      "image/png": "[encoded data removed]",
      "text/plain": [
       "<Figure size 432x288 with 1 Axes>"
      ]
     },
     "metadata": {
      "needs_background": "light"
     },
     "output_type": "display_data"
    }
   ],
   "source": [
    "df.groupby(['sentiment']).size().plot.bar()"
   ]
  },
  {
   "cell_type": "markdown",
   "metadata": {},
   "source": [
    "---\n",
    "\n",
    "## Data Cleaning"
   ]
  },
  {
   "cell_type": "markdown",
   "metadata": {},
   "source": [
    "**Text Normalization**"
   ]
  },
  {
   "cell_type": "code",
   "execution_count": 6,
   "metadata": {},
   "outputs": [],
   "source": [
    "# load stopwords\n",
    "from sklearn.feature_extraction import text\n",
    "text_file = open('/Users/zejiachen/Desktop/fall 2021/QTM 340/Final Project/Notebook/jockers_stopwords.txt') # your path will be different!\n",
    "jockers_words = text_file.read().split()\n",
    "stopword_list = text.ENGLISH_STOP_WORDS.union(jockers_words)\n"
   ]
  },
  {
   "cell_type": "code",
   "execution_count": 7,
   "metadata": {},
   "outputs": [
    {
     "name": "stderr",
     "output_type": "stream",
     "text": [
      "[nltk_data] Downloading package stopwords to\n",
      "[nltk_data]     /Users/zejiachen/nltk_data...\n",
      "[nltk_data]   Package stopwords is already up-to-date!\n"
     ]
    }
   ],
   "source": [
    "#Setting English stopwords\n",
    "nltk.download('stopwords')\n",
    "stopword_list=nltk.corpus.stopwords.words('english')"
   ]
  },
  {
   "cell_type": "code",
   "execution_count": 8,
   "metadata": {},
   "outputs": [],
   "source": [
    "#Tokenization of text\n",
    "tokenizer=ToktokTokenizer()"
   ]
  },
  {
   "cell_type": "markdown",
   "metadata": {},
   "source": [
    "**Removing html strip and noisy text**"
   ]
  },
  {
   "cell_type": "code",
   "execution_count": 9,
   "metadata": {},
   "outputs": [],
   "source": [
    "#Removing the html strips\n",
    "def strip_html(text):\n",
    "    soup = BeautifulSoup(text, \"html.parser\")\n",
    "    return soup.get_text()\n",
    "\n",
    "#Removing the square brackets\n",
    "def remove_between_square_brackets(text):\n",
    "    return re.sub('\\[[^]]*\\]', '', text)\n",
    "\n",
    "#Removing the noisy text\n",
    "def denoise_text(text):\n",
    "    text = strip_html(text)\n",
    "    text = remove_between_square_brackets(text)\n",
    "    return text\n",
    "\n",
    "\n",
    "df['review']=df['review'].apply(denoise_text)"
   ]
  },
  {
   "cell_type": "markdown",
   "metadata": {},
   "source": [
    "**Removing Special Characters**"
   ]
  },
  {
   "cell_type": "code",
   "execution_count": 10,
   "metadata": {},
   "outputs": [],
   "source": [
    "#Define function for removing special characters\n",
    "def remove_special_characters(text, remove_digits=True):\n",
    "    pattern=r'[^a-zA-z0-9\\s]'\n",
    "    text=re.sub(pattern,'',text)\n",
    "    return text\n",
    "\n",
    "df['review']=df['review'].apply(remove_special_characters)"
   ]
  },
  {
   "cell_type": "markdown",
   "metadata": {},
   "source": [
    "**Text Stemming**"
   ]
  },
  {
   "cell_type": "code",
   "execution_count": 11,
   "metadata": {},
   "outputs": [],
   "source": [
    "#Stemming the text\n",
    "def simple_stemmer(text):\n",
    "    ps=nltk.porter.PorterStemmer()\n",
    "    text= ' '.join([ps.stem(word) for word in text.split()])\n",
    "    return text\n",
    "#Apply function on review column\n",
    "df['review']=df['review'].apply(simple_stemmer)"
   ]
  },
  {
   "cell_type": "markdown",
   "metadata": {},
   "source": [
    "**Removing Stopwords**"
   ]
  },
  {
   "cell_type": "code",
   "execution_count": 12,
   "metadata": {},
   "outputs": [
    {
     "name": "stdout",
     "output_type": "stream",
     "text": [
      "{'same', 'for', 'than', 'too', 've', 'don', 'with', 'of', 'was', 'few', 'an', 'until', 'itself', 'the', 'but', \"won't\", 'off', 'no', 'can', 'ours', \"shan't\", 'doesn', \"didn't\", 'before', 'own', 'after', 'its', 'and', 'any', 'll', \"hasn't\", 'again', 'he', 'shan', 'in', 'where', 'by', \"mustn't\", 'shouldn', 'our', 'i', 'isn', 'd', 'have', 'why', 'yourselves', 'aren', 'my', 'been', \"should've\", \"needn't\", 're', 'their', 'didn', \"isn't\", 'here', 'it', \"haven't\", 'most', 'from', 'whom', 'hadn', \"doesn't\", \"you'd\", 'hasn', 'out', 'when', 'mustn', 'themselves', 'wouldn', 'him', 'that', 'how', 'doing', 'ma', 'yourself', 'to', 'other', 'so', 'wasn', 'm', 'not', 'what', 'were', 'o', \"aren't\", 'both', 'ourselves', \"shouldn't\", 'they', 'through', 'we', 'do', \"you'll\", 'y', \"you've\", \"weren't\", 'his', \"you're\", 'more', 'as', 'down', 'all', 'couldn', 'being', 'while', 'under', 'having', 'ain', 'has', 'then', 'theirs', \"wouldn't\", 'those', \"couldn't\", 'haven', 'this', \"hadn't\", 'should', 'during', 'is', 'she', 'just', 'about', 'will', 't', 'mightn', 'below', 'yours', 'only', 'once', \"mightn't\", 'who', 'needn', 'some', 'or', 'into', 'over', 'had', 'weren', 'these', 'himself', 'myself', 'them', 'you', 'between', 'above', 'her', 'there', 's', 'won', 'further', 'against', \"don't\", 'very', 'a', 'now', 'such', \"she's\", \"it's\", \"wasn't\", 'am', 'because', 'does', 'herself', 'me', 'nor', 'your', 'at', 'are', 'each', 'if', 'which', 'up', 'on', 'did', 'hers', \"that'll\", 'be'}\n"
     ]
    }
   ],
   "source": [
    "#set stopwords to english\n",
    "stop=set(stopwords.words('english'))\n",
    "print(stop)\n",
    "\n",
    "#removing the stopwords\n",
    "def remove_stopwords(text, is_lower_case=False):\n",
    "    tokens = tokenizer.tokenize(text)\n",
    "    tokens = [token.strip() for token in tokens]\n",
    "    if is_lower_case:\n",
    "        filtered_tokens = [token for token in tokens if token not in stopword_list]\n",
    "    else:\n",
    "        filtered_tokens = [token for token in tokens if token.lower() not in stopword_list]\n",
    "    filtered_text = ' '.join(filtered_tokens)    \n",
    "    return filtered_text\n",
    "#Apply function on review column\n",
    "df['review']=df['review'].apply(remove_stopwords)"
   ]
  },
  {
   "cell_type": "markdown",
   "metadata": {},
   "source": [
    "---\n",
    "## Generating document-term matrix"
   ]
  },
  {
   "cell_type": "code",
   "execution_count": 13,
   "metadata": {},
   "outputs": [
    {
     "name": "stdout",
     "output_type": "stream",
     "text": [
      "40000 5000 5000\n"
     ]
    }
   ],
   "source": [
    "# train set: 40000 observation, validation set: 5000 observation, final test set: 5000 observation\n",
    "np.random.seed(0)\n",
    "df_train, df_val, df_test = np.split(df.sample(frac=1, random_state=1), \n",
    "                                     [int(.8*len(df)), int(.9*len(df))])\n",
    "\n",
    "print(len(df_train),len(df_val), len(df_test))\n",
    "\n",
    "review_trn = df_train[['review']]\n",
    "sentiment_trn = df_train[['sentiment']]\n",
    "\n",
    "review_val = df_val[['review']]\n",
    "sentiment_val = df_val[['sentiment']]\n",
    "\n",
    "review_test = df_test[['review']]\n",
    "sentiment_test = df_test[['sentiment']]"
   ]
  },
  {
   "cell_type": "code",
   "execution_count": 14,
   "metadata": {},
   "outputs": [
    {
     "data": {
      "text/plain": [
       "'one review ha mention watch 1 Oz episod youll hook right thi exactli happen meth first thing struck Oz wa brutal unflinch scene violenc set right word GO trust thi show faint heart timid thi show pull punch regard drug sex violenc hardcor classic use wordit call OZ nicknam given oswald maximum secur state penitentari focus mainli emerald citi experiment section prison cell glass front face inward privaci high agenda Em citi home manyaryan muslim gangsta latino christian italian irish moreso scuffl death stare dodgi deal shadi agreement never far awayi would say main appeal show due fact goe show wouldnt dare forget pretti pictur paint mainstream audienc forget charm forget romanceoz doesnt mess around first episod ever saw struck nasti wa surreal couldnt say wa readi watch develop tast Oz got accustom high level graphic violenc violenc injustic crook guard wholl sold nickel inmat wholl kill order get away well manner middl class inmat turn prison bitch due lack street skill prison experi watch Oz may becom comfort uncomfort viewingthat get touch darker side'"
      ]
     },
     "execution_count": 14,
     "metadata": {},
     "output_type": "execute_result"
    }
   ],
   "source": [
    "review_trn['review'][0]"
   ]
  },
  {
   "cell_type": "code",
   "execution_count": 15,
   "metadata": {},
   "outputs": [
    {
     "data": {
      "text/plain": [
       "'origin relax watch truli memor anim sequenc unfortun sequel worst dtv sequel complet lack sparkleth biggest letdown lack stori like bell magic world charact told seri vignett magic world margin better still manag make mess stori vignett see mice work person think antic jaq gu redeem merit thi movieth first vignett best cinderella get use princess thi best becaus mice funniest worst vignett jaq turn human cute time ha lack imagin last vignett anastasia fall love wa also cute problem wa couldnt imagin anastasia friendli cinderella consid meaner stepsist thi wa also mar rather ridicul subplot lucif fall love pompomth incident music wa veri pleasant listen tohowev hate song realli uninspir noth like beauti tchaikovski inspir melodi originalth charact strongest develop cinderella still care lost sincer lot charm origin though doe wear veri pretti cloth duke truli funni moment werent enough save film likewis prudenc king mention mice redeem merit movi alon contribut film cute say also anim colour abov averag voic act wa surprisingli goodal cute unorigin sequel wa mar song lack stori 410 mice voic act anim pretti dress bethani cox'"
      ]
     },
     "execution_count": 15,
     "metadata": {},
     "output_type": "execute_result"
    }
   ],
   "source": [
    "review_val['review'][27192]"
   ]
  },
  {
   "cell_type": "code",
   "execution_count": 16,
   "metadata": {},
   "outputs": [
    {
     "data": {
      "text/plain": [
       "'dure make thi movi onc caught statement televis someth like killinggnget take nazismso comprehens thi movi wa begin get notion nazism recent see thi movi tvversion thi filter befor wasnt difficult see thisstrang enough havent met thi way interpret film ever sinc first heard itthes thing found four shade brown four stori lack empathi lead disaster1 crematorywork show realist empathi dead anim say goodby crematoryroom deal death fire almost like cheer game serious death fire emphas father hi boy accordingli ignor push button lead disast injur hi father severelyposs lesson import show young adequ emot grow need know behavior lead disast emot lead good2th magician maneuv hi wife like invis puppet think ha begun cut string master hand reach person integr joy pull hard back desol despairtheir son ha tri revolt creat hi life perfect good tast opposit hi parent bad tast real problem carri within far comprehens hi father behavior pass suffoc hi wife hi spotless environmentposs lesson oppress breed bondage3th father wa abus child pass sadism hi children cheat inherit rob childhood end even inheritanceposs lesson love given cannot give any4th father abus hi daughter creat ruthless reveng sadist aggress ice cold nazisad becom veri obviou physic violenc give possibl background somewhat plausibl explan action young scinheadnazist behavior oppress possibl lesson nazism take birth pervert homecan hideou consequ ignor empathi famili life long run room given sadist nazism veri seldom doe movi contain much reveal littl littl medit consid brilliantli paint actor superb especi niceseem bloke play ulf brunnberg turn worst'"
      ]
     },
     "execution_count": 16,
     "metadata": {},
     "output_type": "execute_result"
    }
   ],
   "source": [
    "review_test['review'][27436]"
   ]
  },
  {
   "cell_type": "markdown",
   "metadata": {},
   "source": [
    "**Bags of words model**"
   ]
  },
  {
   "cell_type": "code",
   "execution_count": 20,
   "metadata": {},
   "outputs": [
    {
     "name": "stdout",
     "output_type": "stream",
     "text": [
      "BOW_cv_train: (40000, 777450)\n",
      "BOW_cv_validation: (5000, 777450)\n",
      "BOW_cv_test: (5000, 777450)\n"
     ]
    }
   ],
   "source": [
    "#Count vectorizer for bag of words\n",
    "cv=CountVectorizer(min_df=2, binary=False,ngram_range=(1,3))\n",
    "#transformed train reviews\n",
    "cv_train_reviews=cv.fit_transform(review_trn['review'])\n",
    "#transformed validation reviews\n",
    "cv_val_reviews=cv.transform(review_val['review'])\n",
    "#transformed test reviews\n",
    "cv_test_reviews=cv.transform(review_test['review'])\n",
    "\n",
    "print('BOW_cv_train:' ,cv_train_reviews.shape)\n",
    "print('BOW_cv_validation:', cv_val_reviews.shape)\n",
    "print('BOW_cv_test:', cv_test_reviews.shape)\n",
    "#vocab=cv.get_feature_names()-toget feature name"
   ]
  },
  {
   "cell_type": "markdown",
   "metadata": {},
   "source": [
    "**Term Frequency-Inverse Document Frequency model (TFIDF)**"
   ]
  },
  {
   "cell_type": "code",
   "execution_count": 21,
   "metadata": {},
   "outputs": [
    {
     "name": "stdout",
     "output_type": "stream",
     "text": [
      "Tfidf_train: (40000, 777450)\n",
      "Tfidf_validation: (5000, 777450)\n",
      "Tfidf_test: (5000, 777450)\n"
     ]
    }
   ],
   "source": [
    "#Tfidf vectorizer\n",
    "tv=TfidfVectorizer(min_df=2,use_idf=True,ngram_range=(1,3))\n",
    "#transformed train reviews\n",
    "tv_train_reviews=tv.fit_transform(review_trn['review'])\n",
    "#transformed validation reviews\n",
    "tv_val_reviews=tv.transform(review_val['review'])\n",
    "#transformed test reviews\n",
    "tv_test_reviews=tv.transform(review_test['review'])\n",
    "print('Tfidf_train:',tv_train_reviews.shape)\n",
    "print('Tfidf_validation:',tv_val_reviews.shape)\n",
    "print('Tfidf_test:',tv_test_reviews.shape)"
   ]
  },
  {
   "cell_type": "markdown",
   "metadata": {},
   "source": [
    "**Labeling the sentiment text**"
   ]
  },
  {
   "cell_type": "code",
   "execution_count": 22,
   "metadata": {},
   "outputs": [
    {
     "name": "stdout",
     "output_type": "stream",
     "text": [
      "sentiment_train:  (40000, 1)\n",
      "sentiment_val:  (5000, 1)\n",
      "sentiment_test:  (5000, 1)\n"
     ]
    }
   ],
   "source": [
    "#labeling the sentient data\n",
    "lb=LabelBinarizer()\n",
    "\n",
    "#transformed sentiment data\n",
    "sentiment_trnBi=lb.fit_transform(sentiment_trn['sentiment'])\n",
    "sentiment_valBi = lb.transform(sentiment_val['sentiment'])\n",
    "sentiment_testBi = lb.transform(sentiment_test['sentiment'])\n",
    "print('sentiment_train: ', sentiment_trnBi.shape)\n",
    "print('sentiment_val: ', sentiment_valBi.shape)\n",
    "print('sentiment_test: ', sentiment_testBi.shape)"
   ]
  },
  {
   "cell_type": "markdown",
   "metadata": {},
   "source": [
    "---\n",
    "## Logistic Regression"
   ]
  },
  {
   "cell_type": "markdown",
   "metadata": {},
   "source": [
    "Build logistic regression model for both bag of words and tfidf features"
   ]
  },
  {
   "cell_type": "code",
   "execution_count": 23,
   "metadata": {},
   "outputs": [
    {
     "name": "stderr",
     "output_type": "stream",
     "text": [
      "/opt/anaconda3/lib/python3.8/site-packages/sklearn/utils/validation.py:72: DataConversionWarning: A column-vector y was passed when a 1d array was expected. Please change the shape of y to (n_samples, ), for example using ravel().\n",
      "  return f(**kwargs)\n"
     ]
    },
    {
     "name": "stdout",
     "output_type": "stream",
     "text": [
      "LogisticRegression(C=1, max_iter=500, random_state=42)\n"
     ]
    },
    {
     "name": "stderr",
     "output_type": "stream",
     "text": [
      "/opt/anaconda3/lib/python3.8/site-packages/sklearn/utils/validation.py:72: DataConversionWarning: A column-vector y was passed when a 1d array was expected. Please change the shape of y to (n_samples, ), for example using ravel().\n",
      "  return f(**kwargs)\n"
     ]
    },
    {
     "name": "stdout",
     "output_type": "stream",
     "text": [
      "LogisticRegression(C=1, max_iter=500, random_state=42)\n"
     ]
    }
   ],
   "source": [
    "#training the model\n",
    "lr=LogisticRegression(penalty='l2',max_iter=500,C=1,random_state=42)\n",
    "#Fitting the model for Bag of words\n",
    "lr_bow=lr.fit(cv_train_reviews,sentiment_trnBi)\n",
    "print(lr_bow)\n",
    "\n",
    "#Fitting the model for tfidf features\n",
    "lr_tfidf=lr.fit(tv_train_reviews,sentiment_trnBi)\n",
    "print(lr_tfidf)"
   ]
  },
  {
   "cell_type": "markdown",
   "metadata": {},
   "source": [
    "Accuracy of the model on **validation set**"
   ]
  },
  {
   "cell_type": "code",
   "execution_count": 24,
   "metadata": {},
   "outputs": [
    {
     "name": "stdout",
     "output_type": "stream",
     "text": [
      "[0 1 0 ... 1 1 0]\n",
      "[0 1 0 ... 1 1 0]\n"
     ]
    }
   ],
   "source": [
    "#Predicting the model for bag of words\n",
    "lr_bow_predict_val=lr.predict(cv_val_reviews)\n",
    "print(lr_bow_predict_val)\n",
    "\n",
    "##Predicting the model for tfidf features\n",
    "lr_tfidf_predict_val=lr.predict(tv_val_reviews)\n",
    "print(lr_tfidf_predict_val)"
   ]
  },
  {
   "cell_type": "code",
   "execution_count": 25,
   "metadata": {},
   "outputs": [
    {
     "name": "stdout",
     "output_type": "stream",
     "text": [
      "lr_bow_score on validation : 0.8588\n",
      "lr_tfidf_score on validation : 0.887\n"
     ]
    }
   ],
   "source": [
    "#Accuracy score for bag of words\n",
    "lr_bow_score_val=accuracy_score(sentiment_valBi,lr_bow_predict_val)\n",
    "print(\"lr_bow_score on validation :\",lr_bow_score_val)\n",
    "#Accuracy score for tfidf features\n",
    "lr_tfidf_score_val=accuracy_score(sentiment_valBi,lr_tfidf_predict_val)\n",
    "print(\"lr_tfidf_score on validation :\",lr_tfidf_score_val)"
   ]
  },
  {
   "cell_type": "code",
   "execution_count": 26,
   "metadata": {},
   "outputs": [
    {
     "data": {
      "image/png": "[encoded data removed]",
      "text/plain": [
       "<Figure size 432x288 with 2 Axes>"
      ]
     },
     "metadata": {
      "needs_background": "light"
     },
     "output_type": "display_data"
    }
   ],
   "source": [
    "import matplotlib.pyplot as plt\n",
    "from sklearn.metrics import confusion_matrix, ConfusionMatrixDisplay\n",
    "\n",
    "#confusion matrix for bag of words\n",
    "cm_bow=confusion_matrix(sentiment_valBi,lr_bow_predict_val,labels=[1,0])\n",
    "\n",
    "disp = ConfusionMatrixDisplay(confusion_matrix=cm_bow, display_labels=['positive','negative'])\n",
    "\n",
    "disp.plot()\n",
    "plt.show()"
   ]
  },
  {
   "cell_type": "code",
   "execution_count": 27,
   "metadata": {},
   "outputs": [
    {
     "name": "stdout",
     "output_type": "stream",
     "text": [
      "[[2248  255]\n",
      " [ 310 2187]]\n"
     ]
    },
    {
     "data": {
      "image/png": "[encoded data removed]",
      "text/plain": [
       "<Figure size 432x288 with 2 Axes>"
      ]
     },
     "metadata": {
      "needs_background": "light"
     },
     "output_type": "display_data"
    }
   ],
   "source": [
    "#confusion matrix for tfidf features\n",
    "cm_tfidf=confusion_matrix(sentiment_valBi,lr_tfidf_predict_val,labels=[1,0])\n",
    "print(cm_tfidf)\n",
    "\n",
    "disp = ConfusionMatrixDisplay(confusion_matrix=cm_tfidf, display_labels=['positive','negative'])\n",
    "\n",
    "disp.plot()\n",
    "plt.show()"
   ]
  },
  {
   "cell_type": "markdown",
   "metadata": {},
   "source": [
    "Accuracy of the model on **test set**"
   ]
  },
  {
   "cell_type": "code",
   "execution_count": 28,
   "metadata": {},
   "outputs": [
    {
     "name": "stdout",
     "output_type": "stream",
     "text": [
      "[1 0 1 ... 1 0 1]\n",
      "[1 0 1 ... 1 0 1]\n"
     ]
    }
   ],
   "source": [
    "#Predicting the model for bag of words\n",
    "lr_bow_predict_test=lr.predict(cv_test_reviews)\n",
    "print(lr_bow_predict_test)\n",
    "\n",
    "##Predicting the model for tfidf features\n",
    "lr_tfidf_predict_test=lr.predict(tv_test_reviews)\n",
    "print(lr_tfidf_predict_test)"
   ]
  },
  {
   "cell_type": "code",
   "execution_count": 29,
   "metadata": {},
   "outputs": [
    {
     "name": "stdout",
     "output_type": "stream",
     "text": [
      "lr_bow_score on test set : 0.8644\n",
      "lr_tfidf_score on test set : 0.8978\n"
     ]
    }
   ],
   "source": [
    "#Accuracy score for bag of words\n",
    "lr_bow_score_test=accuracy_score(sentiment_testBi,lr_bow_predict_test)\n",
    "print(\"lr_bow_score on test set :\",lr_bow_score_test)\n",
    "#Accuracy score for tfidf features\n",
    "lr_tfidf_score_test=accuracy_score(sentiment_testBi,lr_tfidf_predict_test)\n",
    "print(\"lr_tfidf_score on test set :\",lr_tfidf_score_test)"
   ]
  },
  {
   "cell_type": "code",
   "execution_count": 30,
   "metadata": {},
   "outputs": [
    {
     "name": "stdout",
     "output_type": "stream",
     "text": [
      "[[2081  411]\n",
      " [ 267 2241]]\n"
     ]
    },
    {
     "data": {
      "image/png": "[encoded data removed]",
      "text/plain": [
       "<Figure size 432x288 with 2 Axes>"
      ]
     },
     "metadata": {
      "needs_background": "light"
     },
     "output_type": "display_data"
    }
   ],
   "source": [
    "import matplotlib.pyplot as plt\n",
    "from sklearn.metrics import confusion_matrix, ConfusionMatrixDisplay\n",
    "\n",
    "#confusion matrix for bag of words\n",
    "cm_bow=confusion_matrix(sentiment_testBi,lr_bow_predict_test,labels=[1,0])\n",
    "print(cm_bow)\n",
    "\n",
    "disp = ConfusionMatrixDisplay(confusion_matrix=cm_bow, display_labels=['positive','negative'])\n",
    "\n",
    "disp.plot()\n",
    "plt.show()"
   ]
  },
  {
   "cell_type": "code",
   "execution_count": 31,
   "metadata": {},
   "outputs": [
    {
     "name": "stdout",
     "output_type": "stream",
     "text": [
      "[[2259  233]\n",
      " [ 278 2230]]\n"
     ]
    },
    {
     "data": {
      "image/png": "[encoded data removed]",
      "text/plain": [
       "<Figure size 432x288 with 2 Axes>"
      ]
     },
     "metadata": {
      "needs_background": "light"
     },
     "output_type": "display_data"
    }
   ],
   "source": [
    "#confusion matrix for tfidf features\n",
    "cm_tfidf=confusion_matrix(sentiment_testBi,lr_tfidf_predict_test,labels=[1,0])\n",
    "print(cm_tfidf)\n",
    "\n",
    "disp = ConfusionMatrixDisplay(confusion_matrix=cm_tfidf, display_labels=['positive','negative'])\n",
    "\n",
    "disp.plot()\n",
    "plt.show()"
   ]
  },
  {
   "cell_type": "markdown",
   "metadata": {},
   "source": [
    "---\n",
    "## How Logistic Regression makes its decisions (P-val & weight)"
   ]
  },
  {
   "cell_type": "code",
   "execution_count": 34,
   "metadata": {},
   "outputs": [
    {
     "name": "stdout",
     "output_type": "stream",
     "text": [
      "(12000, 1)\n",
      "(12000, 1)\n"
     ]
    }
   ],
   "source": [
    "np.random.seed(0)\n",
    "\n",
    "trn_subset = df_train.sample(frac=0.3)\n",
    "trn_subset.head()\n",
    "\n",
    "train_sub_review = trn_subset[['review']]\n",
    "train_sub_sentiment = trn_subset[['sentiment']]\n",
    "print(train_sub_review.shape)\n",
    "print(train_sub_review.shape)"
   ]
  },
  {
   "cell_type": "code",
   "execution_count": 35,
   "metadata": {},
   "outputs": [
    {
     "name": "stdout",
     "output_type": "stream",
     "text": [
      "(12000, 220628)\n",
      "(12000, 220628)\n",
      "(12000, 1)\n"
     ]
    }
   ],
   "source": [
    "cv=CountVectorizer(min_df=2, binary=False,ngram_range=(1,3))\n",
    "tv=TfidfVectorizer(min_df=2,use_idf=True,ngram_range=(1,3))\n",
    "lb=LabelBinarizer()\n",
    "\n",
    "cv_train_reviews_subset = cv.fit_transform(train_sub_review['review'])\n",
    "tv_train_reviews_subset = tv.fit_transform(train_sub_review['review'])\n",
    "sentiment_trnBi_subset = lb.fit_transform(train_sub_sentiment['sentiment'])\n",
    "print(cv_train_reviews_subset.shape)\n",
    "print(tv_train_reviews_subset.shape)\n",
    "print(sentiment_trnBi_subset.shape)"
   ]
  },
  {
   "cell_type": "code",
   "execution_count": 37,
   "metadata": {},
   "outputs": [
    {
     "name": "stdout",
     "output_type": "stream",
     "text": [
      "df shape is: (12000, 220628)\n",
      "sentiment shape is: (12000, 1)\n"
     ]
    }
   ],
   "source": [
    "vocab = tv.get_feature_names()\n",
    "matrix = tv_train_reviews_subset.toarray()\n",
    "\n",
    "dfReview = pd.DataFrame(matrix, columns=vocab)\n",
    "df_sentiment = pd.DataFrame(sentiment_trnBi_subset)\n",
    "print('df shape is: ' + str(dfReview.shape))\n",
    "print('sentiment shape is: ' + str(df_sentiment.shape))"
   ]
  },
  {
   "cell_type": "code",
   "execution_count": 22,
   "metadata": {},
   "outputs": [],
   "source": [
    "df_concat = pd.concat([dfReview, df_sentiment], axis = 1)"
   ]
  },
  {
   "cell_type": "code",
   "execution_count": 23,
   "metadata": {},
   "outputs": [
    {
     "data": {
      "text/html": [
       "<div>\n",
       "<style scoped>\n",
       "    .dataframe tbody tr th:only-of-type {\n",
       "        vertical-align: middle;\n",
       "    }\n",
       "\n",
       "    .dataframe tbody tr th {\n",
       "        vertical-align: top;\n",
       "    }\n",
       "\n",
       "    .dataframe thead th {\n",
       "        text-align: right;\n",
       "    }\n",
       "</style>\n",
       "<table border=\"1\" class=\"dataframe\">\n",
       "  <thead>\n",
       "    <tr style=\"text-align: right;\">\n",
       "      <th></th>\n",
       "      <th>00 product</th>\n",
       "      <th>00 product compani</th>\n",
       "      <th>00 slasher</th>\n",
       "      <th>00 slasher flick</th>\n",
       "      <th>007 activ</th>\n",
       "      <th>007 activ young</th>\n",
       "      <th>007 adventur</th>\n",
       "      <th>007 adventur much</th>\n",
       "      <th>007 aficionado</th>\n",
       "      <th>007 aficionado nevertheless</th>\n",
       "      <th>...</th>\n",
       "      <th>zwart</th>\n",
       "      <th>zwart hi</th>\n",
       "      <th>zwart hi pedigre</th>\n",
       "      <th>zx81</th>\n",
       "      <th>zx81 act</th>\n",
       "      <th>zx81 act terribl</th>\n",
       "      <th>zyurang</th>\n",
       "      <th>zyurang seri</th>\n",
       "      <th>zyurang seri insteadalso</th>\n",
       "      <th>0</th>\n",
       "    </tr>\n",
       "  </thead>\n",
       "  <tbody>\n",
       "    <tr>\n",
       "      <th>0</th>\n",
       "      <td>0</td>\n",
       "      <td>0</td>\n",
       "      <td>0</td>\n",
       "      <td>0</td>\n",
       "      <td>0</td>\n",
       "      <td>0</td>\n",
       "      <td>0</td>\n",
       "      <td>0</td>\n",
       "      <td>0</td>\n",
       "      <td>0</td>\n",
       "      <td>...</td>\n",
       "      <td>0</td>\n",
       "      <td>0</td>\n",
       "      <td>0</td>\n",
       "      <td>0</td>\n",
       "      <td>0</td>\n",
       "      <td>0</td>\n",
       "      <td>0</td>\n",
       "      <td>0</td>\n",
       "      <td>0</td>\n",
       "      <td>0</td>\n",
       "    </tr>\n",
       "    <tr>\n",
       "      <th>1</th>\n",
       "      <td>0</td>\n",
       "      <td>0</td>\n",
       "      <td>0</td>\n",
       "      <td>0</td>\n",
       "      <td>0</td>\n",
       "      <td>0</td>\n",
       "      <td>0</td>\n",
       "      <td>0</td>\n",
       "      <td>0</td>\n",
       "      <td>0</td>\n",
       "      <td>...</td>\n",
       "      <td>0</td>\n",
       "      <td>0</td>\n",
       "      <td>0</td>\n",
       "      <td>0</td>\n",
       "      <td>0</td>\n",
       "      <td>0</td>\n",
       "      <td>0</td>\n",
       "      <td>0</td>\n",
       "      <td>0</td>\n",
       "      <td>1</td>\n",
       "    </tr>\n",
       "    <tr>\n",
       "      <th>2</th>\n",
       "      <td>0</td>\n",
       "      <td>0</td>\n",
       "      <td>0</td>\n",
       "      <td>0</td>\n",
       "      <td>0</td>\n",
       "      <td>0</td>\n",
       "      <td>0</td>\n",
       "      <td>0</td>\n",
       "      <td>0</td>\n",
       "      <td>0</td>\n",
       "      <td>...</td>\n",
       "      <td>0</td>\n",
       "      <td>0</td>\n",
       "      <td>0</td>\n",
       "      <td>0</td>\n",
       "      <td>0</td>\n",
       "      <td>0</td>\n",
       "      <td>0</td>\n",
       "      <td>0</td>\n",
       "      <td>0</td>\n",
       "      <td>0</td>\n",
       "    </tr>\n",
       "    <tr>\n",
       "      <th>3</th>\n",
       "      <td>0</td>\n",
       "      <td>0</td>\n",
       "      <td>0</td>\n",
       "      <td>0</td>\n",
       "      <td>0</td>\n",
       "      <td>0</td>\n",
       "      <td>0</td>\n",
       "      <td>0</td>\n",
       "      <td>0</td>\n",
       "      <td>0</td>\n",
       "      <td>...</td>\n",
       "      <td>0</td>\n",
       "      <td>0</td>\n",
       "      <td>0</td>\n",
       "      <td>0</td>\n",
       "      <td>0</td>\n",
       "      <td>0</td>\n",
       "      <td>0</td>\n",
       "      <td>0</td>\n",
       "      <td>0</td>\n",
       "      <td>1</td>\n",
       "    </tr>\n",
       "    <tr>\n",
       "      <th>4</th>\n",
       "      <td>1</td>\n",
       "      <td>1</td>\n",
       "      <td>0</td>\n",
       "      <td>0</td>\n",
       "      <td>0</td>\n",
       "      <td>0</td>\n",
       "      <td>0</td>\n",
       "      <td>0</td>\n",
       "      <td>0</td>\n",
       "      <td>0</td>\n",
       "      <td>...</td>\n",
       "      <td>0</td>\n",
       "      <td>0</td>\n",
       "      <td>0</td>\n",
       "      <td>0</td>\n",
       "      <td>0</td>\n",
       "      <td>0</td>\n",
       "      <td>0</td>\n",
       "      <td>0</td>\n",
       "      <td>0</td>\n",
       "      <td>0</td>\n",
       "    </tr>\n",
       "    <tr>\n",
       "      <th>...</th>\n",
       "      <td>...</td>\n",
       "      <td>...</td>\n",
       "      <td>...</td>\n",
       "      <td>...</td>\n",
       "      <td>...</td>\n",
       "      <td>...</td>\n",
       "      <td>...</td>\n",
       "      <td>...</td>\n",
       "      <td>...</td>\n",
       "      <td>...</td>\n",
       "      <td>...</td>\n",
       "      <td>...</td>\n",
       "      <td>...</td>\n",
       "      <td>...</td>\n",
       "      <td>...</td>\n",
       "      <td>...</td>\n",
       "      <td>...</td>\n",
       "      <td>...</td>\n",
       "      <td>...</td>\n",
       "      <td>...</td>\n",
       "      <td>...</td>\n",
       "    </tr>\n",
       "    <tr>\n",
       "      <th>3995</th>\n",
       "      <td>0</td>\n",
       "      <td>0</td>\n",
       "      <td>0</td>\n",
       "      <td>0</td>\n",
       "      <td>0</td>\n",
       "      <td>0</td>\n",
       "      <td>0</td>\n",
       "      <td>0</td>\n",
       "      <td>0</td>\n",
       "      <td>0</td>\n",
       "      <td>...</td>\n",
       "      <td>0</td>\n",
       "      <td>0</td>\n",
       "      <td>0</td>\n",
       "      <td>0</td>\n",
       "      <td>0</td>\n",
       "      <td>0</td>\n",
       "      <td>0</td>\n",
       "      <td>0</td>\n",
       "      <td>0</td>\n",
       "      <td>0</td>\n",
       "    </tr>\n",
       "    <tr>\n",
       "      <th>3996</th>\n",
       "      <td>0</td>\n",
       "      <td>0</td>\n",
       "      <td>0</td>\n",
       "      <td>0</td>\n",
       "      <td>0</td>\n",
       "      <td>0</td>\n",
       "      <td>0</td>\n",
       "      <td>0</td>\n",
       "      <td>0</td>\n",
       "      <td>0</td>\n",
       "      <td>...</td>\n",
       "      <td>0</td>\n",
       "      <td>0</td>\n",
       "      <td>0</td>\n",
       "      <td>0</td>\n",
       "      <td>0</td>\n",
       "      <td>0</td>\n",
       "      <td>0</td>\n",
       "      <td>0</td>\n",
       "      <td>0</td>\n",
       "      <td>0</td>\n",
       "    </tr>\n",
       "    <tr>\n",
       "      <th>3997</th>\n",
       "      <td>0</td>\n",
       "      <td>0</td>\n",
       "      <td>0</td>\n",
       "      <td>0</td>\n",
       "      <td>0</td>\n",
       "      <td>0</td>\n",
       "      <td>0</td>\n",
       "      <td>0</td>\n",
       "      <td>0</td>\n",
       "      <td>0</td>\n",
       "      <td>...</td>\n",
       "      <td>0</td>\n",
       "      <td>0</td>\n",
       "      <td>0</td>\n",
       "      <td>0</td>\n",
       "      <td>0</td>\n",
       "      <td>0</td>\n",
       "      <td>0</td>\n",
       "      <td>0</td>\n",
       "      <td>0</td>\n",
       "      <td>1</td>\n",
       "    </tr>\n",
       "    <tr>\n",
       "      <th>3998</th>\n",
       "      <td>0</td>\n",
       "      <td>0</td>\n",
       "      <td>0</td>\n",
       "      <td>0</td>\n",
       "      <td>0</td>\n",
       "      <td>0</td>\n",
       "      <td>0</td>\n",
       "      <td>0</td>\n",
       "      <td>0</td>\n",
       "      <td>0</td>\n",
       "      <td>...</td>\n",
       "      <td>0</td>\n",
       "      <td>0</td>\n",
       "      <td>0</td>\n",
       "      <td>0</td>\n",
       "      <td>0</td>\n",
       "      <td>0</td>\n",
       "      <td>0</td>\n",
       "      <td>0</td>\n",
       "      <td>0</td>\n",
       "      <td>0</td>\n",
       "    </tr>\n",
       "    <tr>\n",
       "      <th>3999</th>\n",
       "      <td>0</td>\n",
       "      <td>0</td>\n",
       "      <td>0</td>\n",
       "      <td>0</td>\n",
       "      <td>0</td>\n",
       "      <td>0</td>\n",
       "      <td>0</td>\n",
       "      <td>0</td>\n",
       "      <td>0</td>\n",
       "      <td>0</td>\n",
       "      <td>...</td>\n",
       "      <td>0</td>\n",
       "      <td>0</td>\n",
       "      <td>0</td>\n",
       "      <td>0</td>\n",
       "      <td>0</td>\n",
       "      <td>0</td>\n",
       "      <td>0</td>\n",
       "      <td>0</td>\n",
       "      <td>0</td>\n",
       "      <td>0</td>\n",
       "    </tr>\n",
       "  </tbody>\n",
       "</table>\n",
       "<p>4000 rows × 795715 columns</p>\n",
       "</div>"
      ],
      "text/plain": [
       "      00 product  00 product compani  00 slasher  00 slasher flick  007 activ  \\\n",
       "0              0                   0           0                 0          0   \n",
       "1              0                   0           0                 0          0   \n",
       "2              0                   0           0                 0          0   \n",
       "3              0                   0           0                 0          0   \n",
       "4              1                   1           0                 0          0   \n",
       "...          ...                 ...         ...               ...        ...   \n",
       "3995           0                   0           0                 0          0   \n",
       "3996           0                   0           0                 0          0   \n",
       "3997           0                   0           0                 0          0   \n",
       "3998           0                   0           0                 0          0   \n",
       "3999           0                   0           0                 0          0   \n",
       "\n",
       "      007 activ young  007 adventur  007 adventur much  007 aficionado  \\\n",
       "0                   0             0                  0               0   \n",
       "1                   0             0                  0               0   \n",
       "2                   0             0                  0               0   \n",
       "3                   0             0                  0               0   \n",
       "4                   0             0                  0               0   \n",
       "...               ...           ...                ...             ...   \n",
       "3995                0             0                  0               0   \n",
       "3996                0             0                  0               0   \n",
       "3997                0             0                  0               0   \n",
       "3998                0             0                  0               0   \n",
       "3999                0             0                  0               0   \n",
       "\n",
       "      007 aficionado nevertheless  ...  zwart  zwart hi  zwart hi pedigre  \\\n",
       "0                               0  ...      0         0                 0   \n",
       "1                               0  ...      0         0                 0   \n",
       "2                               0  ...      0         0                 0   \n",
       "3                               0  ...      0         0                 0   \n",
       "4                               0  ...      0         0                 0   \n",
       "...                           ...  ...    ...       ...               ...   \n",
       "3995                            0  ...      0         0                 0   \n",
       "3996                            0  ...      0         0                 0   \n",
       "3997                            0  ...      0         0                 0   \n",
       "3998                            0  ...      0         0                 0   \n",
       "3999                            0  ...      0         0                 0   \n",
       "\n",
       "      zx81  zx81 act  zx81 act terribl  zyurang  zyurang seri  \\\n",
       "0        0         0                 0        0             0   \n",
       "1        0         0                 0        0             0   \n",
       "2        0         0                 0        0             0   \n",
       "3        0         0                 0        0             0   \n",
       "4        0         0                 0        0             0   \n",
       "...    ...       ...               ...      ...           ...   \n",
       "3995     0         0                 0        0             0   \n",
       "3996     0         0                 0        0             0   \n",
       "3997     0         0                 0        0             0   \n",
       "3998     0         0                 0        0             0   \n",
       "3999     0         0                 0        0             0   \n",
       "\n",
       "      zyurang seri insteadalso  0  \n",
       "0                            0  0  \n",
       "1                            0  1  \n",
       "2                            0  0  \n",
       "3                            0  1  \n",
       "4                            0  0  \n",
       "...                        ... ..  \n",
       "3995                         0  0  \n",
       "3996                         0  0  \n",
       "3997                         0  1  \n",
       "3998                         0  0  \n",
       "3999                         0  0  \n",
       "\n",
       "[4000 rows x 795715 columns]"
      ]
     },
     "execution_count": 23,
     "metadata": {},
     "output_type": "execute_result"
    }
   ],
   "source": [
    "df_concat"
   ]
  },
  {
   "cell_type": "code",
   "execution_count": 38,
   "metadata": {},
   "outputs": [],
   "source": [
    "canonic_c = 1.0\n",
    "\n",
    "def Ztest(vec1, vec2):\n",
    "\n",
    "    X1, X2 = np.mean(vec1), np.mean(vec2)\n",
    "    sd1, sd2 = np.std(vec1), np.std(vec2)\n",
    "    n1, n2 = len(vec1), len(vec2)\n",
    "\n",
    "    pooledSE = np.sqrt(sd1**2/n1 + sd2**2/n2)\n",
    "    z = (X1 - X2)/pooledSE\n",
    "    pval = 2*(norm.sf(abs(z)))\n",
    "\n",
    "    return z, pval"
   ]
  },
  {
   "cell_type": "code",
   "execution_count": 39,
   "metadata": {},
   "outputs": [],
   "source": [
    "def feat_pval_weight(meta_df_, dtm_df_):\n",
    "\n",
    "    dtm0 = dtm_df_.loc[meta_df_[meta_df_[0]==0].index.tolist()].to_numpy()\n",
    "    dtm1 = dtm_df_.loc[meta_df_[meta_df_[0]==1].index.tolist()].to_numpy()\n",
    "\n",
    "    pvals = [Ztest(dtm0[ : ,i], dtm1[ : ,i])[1] for i in range(dtm_df_.shape[1])]\n",
    "    clf = LogisticRegression(penalty = 'l1', C = canonic_c, class_weight = 'balanced', solver='liblinear')\n",
    "    clf.fit(dtm_df_, meta_df_[0]==1)\n",
    "    weights = clf.coef_[0]\n",
    "\n",
    "    feature_df = pd.DataFrame()\n",
    "\n",
    "    feature_df['FEAT'] = dtm_df_.columns\n",
    "    feature_df['P_VALUE'] = pvals\n",
    "    feature_df['LR_WEIGHT'] = weights\n",
    "\n",
    "    return feature_df"
   ]
  },
  {
   "cell_type": "code",
   "execution_count": 40,
   "metadata": {},
   "outputs": [
    {
     "data": {
      "text/html": [
       "<div>\n",
       "<style scoped>\n",
       "    .dataframe tbody tr th:only-of-type {\n",
       "        vertical-align: middle;\n",
       "    }\n",
       "\n",
       "    .dataframe tbody tr th {\n",
       "        vertical-align: top;\n",
       "    }\n",
       "\n",
       "    .dataframe thead th {\n",
       "        text-align: right;\n",
       "    }\n",
       "</style>\n",
       "<table border=\"1\" class=\"dataframe\">\n",
       "  <thead>\n",
       "    <tr style=\"text-align: right;\">\n",
       "      <th></th>\n",
       "      <th>FEAT</th>\n",
       "      <th>P_VALUE</th>\n",
       "      <th>LR_WEIGHT</th>\n",
       "    </tr>\n",
       "  </thead>\n",
       "  <tbody>\n",
       "    <tr>\n",
       "      <th>0</th>\n",
       "      <td>00</td>\n",
       "      <td>0.896391</td>\n",
       "      <td>0.0</td>\n",
       "    </tr>\n",
       "    <tr>\n",
       "      <th>1</th>\n",
       "      <td>00 agent</td>\n",
       "      <td>0.191108</td>\n",
       "      <td>0.0</td>\n",
       "    </tr>\n",
       "    <tr>\n",
       "      <th>2</th>\n",
       "      <td>007</td>\n",
       "      <td>0.224583</td>\n",
       "      <td>0.0</td>\n",
       "    </tr>\n",
       "    <tr>\n",
       "      <th>3</th>\n",
       "      <td>01</td>\n",
       "      <td>0.158571</td>\n",
       "      <td>0.0</td>\n",
       "    </tr>\n",
       "    <tr>\n",
       "      <th>4</th>\n",
       "      <td>010</td>\n",
       "      <td>0.000064</td>\n",
       "      <td>0.0</td>\n",
       "    </tr>\n",
       "    <tr>\n",
       "      <th>...</th>\n",
       "      <td>...</td>\n",
       "      <td>...</td>\n",
       "      <td>...</td>\n",
       "    </tr>\n",
       "    <tr>\n",
       "      <th>220623</th>\n",
       "      <td>zucker brother</td>\n",
       "      <td>0.672986</td>\n",
       "      <td>0.0</td>\n",
       "    </tr>\n",
       "    <tr>\n",
       "      <th>220624</th>\n",
       "      <td>zuckerman</td>\n",
       "      <td>0.158257</td>\n",
       "      <td>0.0</td>\n",
       "    </tr>\n",
       "    <tr>\n",
       "      <th>220625</th>\n",
       "      <td>zue</td>\n",
       "      <td>0.627348</td>\n",
       "      <td>0.0</td>\n",
       "    </tr>\n",
       "    <tr>\n",
       "      <th>220626</th>\n",
       "      <td>zuniga</td>\n",
       "      <td>0.391123</td>\n",
       "      <td>0.0</td>\n",
       "    </tr>\n",
       "    <tr>\n",
       "      <th>220627</th>\n",
       "      <td>zurer</td>\n",
       "      <td>0.180723</td>\n",
       "      <td>0.0</td>\n",
       "    </tr>\n",
       "  </tbody>\n",
       "</table>\n",
       "<p>220628 rows × 3 columns</p>\n",
       "</div>"
      ],
      "text/plain": [
       "                  FEAT   P_VALUE  LR_WEIGHT\n",
       "0                   00  0.896391        0.0\n",
       "1             00 agent  0.191108        0.0\n",
       "2                  007  0.224583        0.0\n",
       "3                   01  0.158571        0.0\n",
       "4                  010  0.000064        0.0\n",
       "...                ...       ...        ...\n",
       "220623  zucker brother  0.672986        0.0\n",
       "220624       zuckerman  0.158257        0.0\n",
       "220625             zue  0.627348        0.0\n",
       "220626          zuniga  0.391123        0.0\n",
       "220627           zurer  0.180723        0.0\n",
       "\n",
       "[220628 rows x 3 columns]"
      ]
     },
     "execution_count": 40,
     "metadata": {},
     "output_type": "execute_result"
    }
   ],
   "source": [
    "feat_df = feat_pval_weight(df_sentiment, dfReview)\n",
    "feat_df"
   ]
  },
  {
   "cell_type": "code",
   "execution_count": 41,
   "metadata": {},
   "outputs": [
    {
     "data": {
      "text/html": [
       "<div>\n",
       "<style scoped>\n",
       "    .dataframe tbody tr th:only-of-type {\n",
       "        vertical-align: middle;\n",
       "    }\n",
       "\n",
       "    .dataframe tbody tr th {\n",
       "        vertical-align: top;\n",
       "    }\n",
       "\n",
       "    .dataframe thead th {\n",
       "        text-align: right;\n",
       "    }\n",
       "</style>\n",
       "<table border=\"1\" class=\"dataframe\">\n",
       "  <thead>\n",
       "    <tr style=\"text-align: right;\">\n",
       "      <th></th>\n",
       "      <th>FEAT</th>\n",
       "      <th>P_VALUE</th>\n",
       "      <th>LR_WEIGHT</th>\n",
       "    </tr>\n",
       "  </thead>\n",
       "  <tbody>\n",
       "    <tr>\n",
       "      <th>216783</th>\n",
       "      <td>worst</td>\n",
       "      <td>4.195682e-162</td>\n",
       "      <td>-29.582519</td>\n",
       "    </tr>\n",
       "    <tr>\n",
       "      <th>209206</th>\n",
       "      <td>wast</td>\n",
       "      <td>1.285437e-132</td>\n",
       "      <td>-28.562409</td>\n",
       "    </tr>\n",
       "    <tr>\n",
       "      <th>14740</th>\n",
       "      <td>bad</td>\n",
       "      <td>5.911730e-213</td>\n",
       "      <td>-22.008366</td>\n",
       "    </tr>\n",
       "    <tr>\n",
       "      <th>13682</th>\n",
       "      <td>aw</td>\n",
       "      <td>1.876370e-87</td>\n",
       "      <td>-19.005518</td>\n",
       "    </tr>\n",
       "    <tr>\n",
       "      <th>184041</th>\n",
       "      <td>terribl</td>\n",
       "      <td>1.762304e-73</td>\n",
       "      <td>-17.084250</td>\n",
       "    </tr>\n",
       "    <tr>\n",
       "      <th>89369</th>\n",
       "      <td>horribl</td>\n",
       "      <td>4.981421e-54</td>\n",
       "      <td>-14.601060</td>\n",
       "    </tr>\n",
       "    <tr>\n",
       "      <th>22406</th>\n",
       "      <td>bore</td>\n",
       "      <td>1.996109e-64</td>\n",
       "      <td>-13.934139</td>\n",
       "    </tr>\n",
       "    <tr>\n",
       "      <th>60054</th>\n",
       "      <td>fail</td>\n",
       "      <td>8.201642e-33</td>\n",
       "      <td>-13.031974</td>\n",
       "    </tr>\n",
       "    <tr>\n",
       "      <th>145102</th>\n",
       "      <td>poorli</td>\n",
       "      <td>3.088719e-33</td>\n",
       "      <td>-12.163013</td>\n",
       "    </tr>\n",
       "    <tr>\n",
       "      <th>130692</th>\n",
       "      <td>noth</td>\n",
       "      <td>3.917683e-56</td>\n",
       "      <td>-12.033120</td>\n",
       "    </tr>\n",
       "    <tr>\n",
       "      <th>49393</th>\n",
       "      <td>dull</td>\n",
       "      <td>4.557254e-28</td>\n",
       "      <td>-11.779479</td>\n",
       "    </tr>\n",
       "    <tr>\n",
       "      <th>179218</th>\n",
       "      <td>stupid</td>\n",
       "      <td>1.168144e-60</td>\n",
       "      <td>-11.696541</td>\n",
       "    </tr>\n",
       "    <tr>\n",
       "      <th>216667</th>\n",
       "      <td>wors</td>\n",
       "      <td>1.009082e-56</td>\n",
       "      <td>-11.246397</td>\n",
       "    </tr>\n",
       "    <tr>\n",
       "      <th>101224</th>\n",
       "      <td>lack</td>\n",
       "      <td>1.788946e-20</td>\n",
       "      <td>-10.497562</td>\n",
       "    </tr>\n",
       "    <tr>\n",
       "      <th>144970</th>\n",
       "      <td>poor</td>\n",
       "      <td>1.972381e-45</td>\n",
       "      <td>-10.466604</td>\n",
       "    </tr>\n",
       "    <tr>\n",
       "      <th>101525</th>\n",
       "      <td>lame</td>\n",
       "      <td>4.306912e-30</td>\n",
       "      <td>-8.845727</td>\n",
       "    </tr>\n",
       "    <tr>\n",
       "      <th>199862</th>\n",
       "      <td>unless</td>\n",
       "      <td>1.349008e-27</td>\n",
       "      <td>-8.769698</td>\n",
       "    </tr>\n",
       "    <tr>\n",
       "      <th>12857</th>\n",
       "      <td>attempt</td>\n",
       "      <td>5.234465e-28</td>\n",
       "      <td>-8.635993</td>\n",
       "    </tr>\n",
       "    <tr>\n",
       "      <th>45328</th>\n",
       "      <td>disappoint</td>\n",
       "      <td>1.832942e-14</td>\n",
       "      <td>-8.451077</td>\n",
       "    </tr>\n",
       "    <tr>\n",
       "      <th>119544</th>\n",
       "      <td>minut</td>\n",
       "      <td>1.580995e-44</td>\n",
       "      <td>-8.187120</td>\n",
       "    </tr>\n",
       "  </tbody>\n",
       "</table>\n",
       "</div>"
      ],
      "text/plain": [
       "              FEAT        P_VALUE  LR_WEIGHT\n",
       "216783       worst  4.195682e-162 -29.582519\n",
       "209206        wast  1.285437e-132 -28.562409\n",
       "14740          bad  5.911730e-213 -22.008366\n",
       "13682           aw   1.876370e-87 -19.005518\n",
       "184041     terribl   1.762304e-73 -17.084250\n",
       "89369      horribl   4.981421e-54 -14.601060\n",
       "22406         bore   1.996109e-64 -13.934139\n",
       "60054         fail   8.201642e-33 -13.031974\n",
       "145102      poorli   3.088719e-33 -12.163013\n",
       "130692        noth   3.917683e-56 -12.033120\n",
       "49393         dull   4.557254e-28 -11.779479\n",
       "179218      stupid   1.168144e-60 -11.696541\n",
       "216667        wors   1.009082e-56 -11.246397\n",
       "101224        lack   1.788946e-20 -10.497562\n",
       "144970        poor   1.972381e-45 -10.466604\n",
       "101525        lame   4.306912e-30  -8.845727\n",
       "199862      unless   1.349008e-27  -8.769698\n",
       "12857      attempt   5.234465e-28  -8.635993\n",
       "45328   disappoint   1.832942e-14  -8.451077\n",
       "119544       minut   1.580995e-44  -8.187120"
      ]
     },
     "execution_count": 41,
     "metadata": {},
     "output_type": "execute_result"
    }
   ],
   "source": [
    "feat_df.sort_values('LR_WEIGHT', ascending = True).head(20)"
   ]
  },
  {
   "cell_type": "code",
   "execution_count": 42,
   "metadata": {},
   "outputs": [
    {
     "data": {
      "text/html": [
       "<div>\n",
       "<style scoped>\n",
       "    .dataframe tbody tr th:only-of-type {\n",
       "        vertical-align: middle;\n",
       "    }\n",
       "\n",
       "    .dataframe tbody tr th {\n",
       "        vertical-align: top;\n",
       "    }\n",
       "\n",
       "    .dataframe thead th {\n",
       "        text-align: right;\n",
       "    }\n",
       "</style>\n",
       "<table border=\"1\" class=\"dataframe\">\n",
       "  <thead>\n",
       "    <tr style=\"text-align: right;\">\n",
       "      <th></th>\n",
       "      <th>FEAT</th>\n",
       "      <th>P_VALUE</th>\n",
       "      <th>LR_WEIGHT</th>\n",
       "    </tr>\n",
       "  </thead>\n",
       "  <tbody>\n",
       "    <tr>\n",
       "      <th>57895</th>\n",
       "      <td>excel</td>\n",
       "      <td>8.460197e-76</td>\n",
       "      <td>17.292229</td>\n",
       "    </tr>\n",
       "    <tr>\n",
       "      <th>78990</th>\n",
       "      <td>great</td>\n",
       "      <td>4.846784e-133</td>\n",
       "      <td>16.880565</td>\n",
       "    </tr>\n",
       "    <tr>\n",
       "      <th>133219</th>\n",
       "      <td>one best</td>\n",
       "      <td>6.671573e-48</td>\n",
       "      <td>11.491846</td>\n",
       "    </tr>\n",
       "    <tr>\n",
       "      <th>140303</th>\n",
       "      <td>perfect</td>\n",
       "      <td>4.720906e-41</td>\n",
       "      <td>11.122751</td>\n",
       "    </tr>\n",
       "    <tr>\n",
       "      <th>19215</th>\n",
       "      <td>best</td>\n",
       "      <td>4.914129e-61</td>\n",
       "      <td>10.487629</td>\n",
       "    </tr>\n",
       "    <tr>\n",
       "      <th>53168</th>\n",
       "      <td>enjoy</td>\n",
       "      <td>6.365714e-37</td>\n",
       "      <td>9.971123</td>\n",
       "    </tr>\n",
       "    <tr>\n",
       "      <th>7950</th>\n",
       "      <td>amaz</td>\n",
       "      <td>2.534312e-32</td>\n",
       "      <td>9.956159</td>\n",
       "    </tr>\n",
       "    <tr>\n",
       "      <th>16518</th>\n",
       "      <td>beauti</td>\n",
       "      <td>1.533218e-56</td>\n",
       "      <td>9.448308</td>\n",
       "    </tr>\n",
       "    <tr>\n",
       "      <th>87827</th>\n",
       "      <td>hilari</td>\n",
       "      <td>1.520122e-14</td>\n",
       "      <td>9.189321</td>\n",
       "    </tr>\n",
       "    <tr>\n",
       "      <th>110685</th>\n",
       "      <td>love</td>\n",
       "      <td>4.591228e-94</td>\n",
       "      <td>9.109429</td>\n",
       "    </tr>\n",
       "    <tr>\n",
       "      <th>61902</th>\n",
       "      <td>favorit</td>\n",
       "      <td>1.180292e-37</td>\n",
       "      <td>8.934897</td>\n",
       "    </tr>\n",
       "    <tr>\n",
       "      <th>61156</th>\n",
       "      <td>fantast</td>\n",
       "      <td>1.956392e-30</td>\n",
       "      <td>8.568403</td>\n",
       "    </tr>\n",
       "    <tr>\n",
       "      <th>180340</th>\n",
       "      <td>superb</td>\n",
       "      <td>6.108210e-35</td>\n",
       "      <td>8.083976</td>\n",
       "    </tr>\n",
       "    <tr>\n",
       "      <th>194008</th>\n",
       "      <td>today</td>\n",
       "      <td>2.672324e-28</td>\n",
       "      <td>7.837100</td>\n",
       "    </tr>\n",
       "    <tr>\n",
       "      <th>23596</th>\n",
       "      <td>brilliant</td>\n",
       "      <td>5.347235e-30</td>\n",
       "      <td>7.750435</td>\n",
       "    </tr>\n",
       "    <tr>\n",
       "      <th>178733</th>\n",
       "      <td>strong</td>\n",
       "      <td>9.814561e-20</td>\n",
       "      <td>7.400970</td>\n",
       "    </tr>\n",
       "    <tr>\n",
       "      <th>31732</th>\n",
       "      <td>classic</td>\n",
       "      <td>3.638593e-19</td>\n",
       "      <td>7.386152</td>\n",
       "    </tr>\n",
       "    <tr>\n",
       "      <th>87722</th>\n",
       "      <td>highli</td>\n",
       "      <td>2.131798e-26</td>\n",
       "      <td>7.021415</td>\n",
       "    </tr>\n",
       "    <tr>\n",
       "      <th>181523</th>\n",
       "      <td>sweet</td>\n",
       "      <td>5.227537e-18</td>\n",
       "      <td>6.977401</td>\n",
       "    </tr>\n",
       "    <tr>\n",
       "      <th>44123</th>\n",
       "      <td>differ</td>\n",
       "      <td>1.224747e-21</td>\n",
       "      <td>6.298304</td>\n",
       "    </tr>\n",
       "  </tbody>\n",
       "</table>\n",
       "</div>"
      ],
      "text/plain": [
       "             FEAT        P_VALUE  LR_WEIGHT\n",
       "57895       excel   8.460197e-76  17.292229\n",
       "78990       great  4.846784e-133  16.880565\n",
       "133219   one best   6.671573e-48  11.491846\n",
       "140303    perfect   4.720906e-41  11.122751\n",
       "19215        best   4.914129e-61  10.487629\n",
       "53168       enjoy   6.365714e-37   9.971123\n",
       "7950         amaz   2.534312e-32   9.956159\n",
       "16518      beauti   1.533218e-56   9.448308\n",
       "87827      hilari   1.520122e-14   9.189321\n",
       "110685       love   4.591228e-94   9.109429\n",
       "61902     favorit   1.180292e-37   8.934897\n",
       "61156     fantast   1.956392e-30   8.568403\n",
       "180340     superb   6.108210e-35   8.083976\n",
       "194008      today   2.672324e-28   7.837100\n",
       "23596   brilliant   5.347235e-30   7.750435\n",
       "178733     strong   9.814561e-20   7.400970\n",
       "31732     classic   3.638593e-19   7.386152\n",
       "87722      highli   2.131798e-26   7.021415\n",
       "181523      sweet   5.227537e-18   6.977401\n",
       "44123      differ   1.224747e-21   6.298304"
      ]
     },
     "execution_count": 42,
     "metadata": {},
     "output_type": "execute_result"
    }
   ],
   "source": [
    "feat_df.sort_values('LR_WEIGHT', ascending = False).head(20)"
   ]
  },
  {
   "cell_type": "markdown",
   "metadata": {},
   "source": [
    "### More Filtering"
   ]
  },
  {
   "cell_type": "code",
   "execution_count": 43,
   "metadata": {},
   "outputs": [
    {
     "data": {
      "text/plain": [
       "0.00022662581358667076"
      ]
     },
     "execution_count": 43,
     "metadata": {},
     "output_type": "execute_result"
    }
   ],
   "source": [
    "sig_thresh = 50.00 / len(dfReview.columns)\n",
    "\n",
    "sig_thresh"
   ]
  },
  {
   "cell_type": "code",
   "execution_count": 46,
   "metadata": {},
   "outputs": [
    {
     "name": "stdout",
     "output_type": "stream",
     "text": [
      "(220628, 3)\n"
     ]
    },
    {
     "data": {
      "text/html": [
       "<div>\n",
       "<style scoped>\n",
       "    .dataframe tbody tr th:only-of-type {\n",
       "        vertical-align: middle;\n",
       "    }\n",
       "\n",
       "    .dataframe tbody tr th {\n",
       "        vertical-align: top;\n",
       "    }\n",
       "\n",
       "    .dataframe thead th {\n",
       "        text-align: right;\n",
       "    }\n",
       "</style>\n",
       "<table border=\"1\" class=\"dataframe\">\n",
       "  <thead>\n",
       "    <tr style=\"text-align: right;\">\n",
       "      <th></th>\n",
       "      <th>FEAT</th>\n",
       "      <th>P_VALUE</th>\n",
       "      <th>LR_WEIGHT</th>\n",
       "    </tr>\n",
       "  </thead>\n",
       "  <tbody>\n",
       "    <tr>\n",
       "      <th>216783</th>\n",
       "      <td>worst</td>\n",
       "      <td>4.195682e-162</td>\n",
       "      <td>-29.582519</td>\n",
       "    </tr>\n",
       "    <tr>\n",
       "      <th>209206</th>\n",
       "      <td>wast</td>\n",
       "      <td>1.285437e-132</td>\n",
       "      <td>-28.562409</td>\n",
       "    </tr>\n",
       "    <tr>\n",
       "      <th>14740</th>\n",
       "      <td>bad</td>\n",
       "      <td>5.911730e-213</td>\n",
       "      <td>-22.008366</td>\n",
       "    </tr>\n",
       "    <tr>\n",
       "      <th>13682</th>\n",
       "      <td>aw</td>\n",
       "      <td>1.876370e-87</td>\n",
       "      <td>-19.005518</td>\n",
       "    </tr>\n",
       "    <tr>\n",
       "      <th>184041</th>\n",
       "      <td>terribl</td>\n",
       "      <td>1.762304e-73</td>\n",
       "      <td>-17.084250</td>\n",
       "    </tr>\n",
       "    <tr>\n",
       "      <th>...</th>\n",
       "      <td>...</td>\n",
       "      <td>...</td>\n",
       "      <td>...</td>\n",
       "    </tr>\n",
       "    <tr>\n",
       "      <th>19215</th>\n",
       "      <td>best</td>\n",
       "      <td>4.914129e-61</td>\n",
       "      <td>10.487629</td>\n",
       "    </tr>\n",
       "    <tr>\n",
       "      <th>140303</th>\n",
       "      <td>perfect</td>\n",
       "      <td>4.720906e-41</td>\n",
       "      <td>11.122751</td>\n",
       "    </tr>\n",
       "    <tr>\n",
       "      <th>133219</th>\n",
       "      <td>one best</td>\n",
       "      <td>6.671573e-48</td>\n",
       "      <td>11.491846</td>\n",
       "    </tr>\n",
       "    <tr>\n",
       "      <th>78990</th>\n",
       "      <td>great</td>\n",
       "      <td>4.846784e-133</td>\n",
       "      <td>16.880565</td>\n",
       "    </tr>\n",
       "    <tr>\n",
       "      <th>57895</th>\n",
       "      <td>excel</td>\n",
       "      <td>8.460197e-76</td>\n",
       "      <td>17.292229</td>\n",
       "    </tr>\n",
       "  </tbody>\n",
       "</table>\n",
       "<p>1291 rows × 3 columns</p>\n",
       "</div>"
      ],
      "text/plain": [
       "            FEAT        P_VALUE  LR_WEIGHT\n",
       "216783     worst  4.195682e-162 -29.582519\n",
       "209206      wast  1.285437e-132 -28.562409\n",
       "14740        bad  5.911730e-213 -22.008366\n",
       "13682         aw   1.876370e-87 -19.005518\n",
       "184041   terribl   1.762304e-73 -17.084250\n",
       "...          ...            ...        ...\n",
       "19215       best   4.914129e-61  10.487629\n",
       "140303   perfect   4.720906e-41  11.122751\n",
       "133219  one best   6.671573e-48  11.491846\n",
       "78990      great  4.846784e-133  16.880565\n",
       "57895      excel   8.460197e-76  17.292229\n",
       "\n",
       "[1291 rows x 3 columns]"
      ]
     },
     "execution_count": 46,
     "metadata": {},
     "output_type": "execute_result"
    }
   ],
   "source": [
    "# first set up our p-value filter\n",
    "p_value_filter = feat_df['P_VALUE'] <= sig_thresh\n",
    "\n",
    "# and filter the df\n",
    "sorted_filtered_df = feat_df[p_value_filter].sort_values('LR_WEIGHT', ascending = True)\n",
    "print(feat_df.shape)\n",
    "sorted_filtered_df"
   ]
  },
  {
   "cell_type": "code",
   "execution_count": 47,
   "metadata": {},
   "outputs": [],
   "source": [
    "# no weights\n",
    "no_weights_filter = sorted_filtered_df['LR_WEIGHT'] != 0\n",
    "\n",
    "# pos weights\n",
    "pos_weight_filter = sorted_filtered_df['LR_WEIGHT'] >= 0 # positive corresponds w/ positive review\n",
    "# neg weights\n",
    "neg_weight_filter = sorted_filtered_df['LR_WEIGHT'] <= 0 # neg corresponds w/ negative review"
   ]
  },
  {
   "cell_type": "code",
   "execution_count": 48,
   "metadata": {},
   "outputs": [
    {
     "data": {
      "text/html": [
       "<div>\n",
       "<style scoped>\n",
       "    .dataframe tbody tr th:only-of-type {\n",
       "        vertical-align: middle;\n",
       "    }\n",
       "\n",
       "    .dataframe tbody tr th {\n",
       "        vertical-align: top;\n",
       "    }\n",
       "\n",
       "    .dataframe thead th {\n",
       "        text-align: right;\n",
       "    }\n",
       "</style>\n",
       "<table border=\"1\" class=\"dataframe\">\n",
       "  <thead>\n",
       "    <tr style=\"text-align: right;\">\n",
       "      <th></th>\n",
       "      <th>FEAT</th>\n",
       "      <th>P_VALUE</th>\n",
       "      <th>LR_WEIGHT</th>\n",
       "    </tr>\n",
       "  </thead>\n",
       "  <tbody>\n",
       "    <tr>\n",
       "      <th>216783</th>\n",
       "      <td>worst</td>\n",
       "      <td>4.195682e-162</td>\n",
       "      <td>-29.582519</td>\n",
       "    </tr>\n",
       "    <tr>\n",
       "      <th>209206</th>\n",
       "      <td>wast</td>\n",
       "      <td>1.285437e-132</td>\n",
       "      <td>-28.562409</td>\n",
       "    </tr>\n",
       "    <tr>\n",
       "      <th>14740</th>\n",
       "      <td>bad</td>\n",
       "      <td>5.911730e-213</td>\n",
       "      <td>-22.008366</td>\n",
       "    </tr>\n",
       "    <tr>\n",
       "      <th>13682</th>\n",
       "      <td>aw</td>\n",
       "      <td>1.876370e-87</td>\n",
       "      <td>-19.005518</td>\n",
       "    </tr>\n",
       "    <tr>\n",
       "      <th>184041</th>\n",
       "      <td>terribl</td>\n",
       "      <td>1.762304e-73</td>\n",
       "      <td>-17.084250</td>\n",
       "    </tr>\n",
       "    <tr>\n",
       "      <th>...</th>\n",
       "      <td>...</td>\n",
       "      <td>...</td>\n",
       "      <td>...</td>\n",
       "    </tr>\n",
       "    <tr>\n",
       "      <th>19215</th>\n",
       "      <td>best</td>\n",
       "      <td>4.914129e-61</td>\n",
       "      <td>10.487629</td>\n",
       "    </tr>\n",
       "    <tr>\n",
       "      <th>140303</th>\n",
       "      <td>perfect</td>\n",
       "      <td>4.720906e-41</td>\n",
       "      <td>11.122751</td>\n",
       "    </tr>\n",
       "    <tr>\n",
       "      <th>133219</th>\n",
       "      <td>one best</td>\n",
       "      <td>6.671573e-48</td>\n",
       "      <td>11.491846</td>\n",
       "    </tr>\n",
       "    <tr>\n",
       "      <th>78990</th>\n",
       "      <td>great</td>\n",
       "      <td>4.846784e-133</td>\n",
       "      <td>16.880565</td>\n",
       "    </tr>\n",
       "    <tr>\n",
       "      <th>57895</th>\n",
       "      <td>excel</td>\n",
       "      <td>8.460197e-76</td>\n",
       "      <td>17.292229</td>\n",
       "    </tr>\n",
       "  </tbody>\n",
       "</table>\n",
       "<p>282 rows × 3 columns</p>\n",
       "</div>"
      ],
      "text/plain": [
       "            FEAT        P_VALUE  LR_WEIGHT\n",
       "216783     worst  4.195682e-162 -29.582519\n",
       "209206      wast  1.285437e-132 -28.562409\n",
       "14740        bad  5.911730e-213 -22.008366\n",
       "13682         aw   1.876370e-87 -19.005518\n",
       "184041   terribl   1.762304e-73 -17.084250\n",
       "...          ...            ...        ...\n",
       "19215       best   4.914129e-61  10.487629\n",
       "140303   perfect   4.720906e-41  11.122751\n",
       "133219  one best   6.671573e-48  11.491846\n",
       "78990      great  4.846784e-133  16.880565\n",
       "57895      excel   8.460197e-76  17.292229\n",
       "\n",
       "[282 rows x 3 columns]"
      ]
     },
     "execution_count": 48,
     "metadata": {},
     "output_type": "execute_result"
    }
   ],
   "source": [
    "# apply the no weight filter\n",
    "## this block gonna take a while to run\n",
    "sorted_filtered_df = sorted_filtered_df[no_weights_filter]\n",
    "\n",
    "sorted_filtered_df"
   ]
  },
  {
   "cell_type": "code",
   "execution_count": 49,
   "metadata": {},
   "outputs": [
    {
     "name": "stderr",
     "output_type": "stream",
     "text": [
      "<ipython-input-49-d9a112a07975>:3: UserWarning: Boolean Series key will be reindexed to match DataFrame index.\n",
      "  positive_weights = sorted_filtered_df[pos_weight_filter]\n",
      "<ipython-input-49-d9a112a07975>:4: UserWarning: Boolean Series key will be reindexed to match DataFrame index.\n",
      "  negative_weights = sorted_filtered_df[neg_weight_filter]\n"
     ]
    }
   ],
   "source": [
    "# and then separate out the pos and neg weights\n",
    "\n",
    "positive_weights = sorted_filtered_df[pos_weight_filter] \n",
    "negative_weights = sorted_filtered_df[neg_weight_filter]"
   ]
  },
  {
   "cell_type": "code",
   "execution_count": 50,
   "metadata": {},
   "outputs": [
    {
     "name": "stdout",
     "output_type": "stream",
     "text": [
      "Here are the significant words that distinguish positive sentiment:\n",
      "role\n",
      "truli\n",
      "season\n",
      "visual\n",
      "hold\n",
      "oscar\n",
      "avail\n",
      "mani\n",
      "natur\n",
      "jame\n",
      "marvel\n",
      "modern\n",
      "highli recommend\n",
      "event\n",
      "thank\n",
      "episod\n",
      "experi\n",
      "unexpect\n",
      "chanc\n",
      "although\n",
      "innoc\n",
      "dark\n",
      "rock\n",
      "atmospher\n",
      "saw thi\n",
      "saw\n",
      "citi\n",
      "live\n",
      "play\n",
      "often\n",
      "810\n",
      "blue\n",
      "portray\n",
      "throughout\n",
      "recent\n",
      "well worth\n",
      "tear\n",
      "rare\n",
      "complex\n",
      "veri funni\n",
      "find\n",
      "veri well\n",
      "new\n",
      "funniest\n",
      "bond\n",
      "score\n",
      "quit\n",
      "refresh\n",
      "later\n",
      "japanes\n"
     ]
    }
   ],
   "source": [
    "print(\"Here are the significant words that distinguish positive sentiment:\")\n",
    "words = []\n",
    "\n",
    "for idx, row in positive_weights.iterrows():\n",
    "    words.append(row['FEAT'])\n",
    "\n",
    "for i in range(50):\n",
    "    print(words[i])"
   ]
  },
  {
   "cell_type": "code",
   "execution_count": 51,
   "metadata": {},
   "outputs": [
    {
     "name": "stdout",
     "output_type": "stream",
     "text": [
      "Here are the significant words that distinguish negative sentiment:\n",
      "worst\n",
      "wast\n",
      "bad\n",
      "aw\n",
      "terribl\n",
      "horribl\n",
      "bore\n",
      "fail\n",
      "poorli\n",
      "noth\n",
      "dull\n",
      "stupid\n",
      "wors\n",
      "lack\n",
      "poor\n",
      "lame\n",
      "unless\n",
      "attempt\n",
      "disappoint\n",
      "minut\n",
      "suppos\n",
      "save\n",
      "pointless\n",
      "annoy\n",
      "ridicul\n",
      "flat\n",
      "script\n",
      "cheap\n",
      "instead\n",
      "unfortun\n",
      "pathet\n",
      "whi\n",
      "unfunni\n",
      "couldnt\n",
      "look like\n",
      "tri\n",
      "oh\n",
      "plot\n",
      "ani\n",
      "better\n",
      "guess\n",
      "least\n",
      "mess\n",
      "onli\n",
      "even\n",
      "laughabl\n",
      "410\n",
      "director\n",
      "embarrass\n",
      "predict\n"
     ]
    }
   ],
   "source": [
    "print(\"Here are the significant words that distinguish negative sentiment:\")\n",
    "words = []\n",
    "\n",
    "for idx, row in negative_weights.iterrows():\n",
    "    words.append(row['FEAT'])\n",
    "\n",
    "for i in range(50):\n",
    "    print(words[i])"
   ]
  }
 ],
 "metadata": {
  "kernelspec": {
   "display_name": "Python 3",
   "language": "python",
   "name": "python3"
  },
  "language_info": {
   "codemirror_mode": {
    "name": "ipython",
    "version": 3
   },
   "file_extension": ".py",
   "mimetype": "text/x-python",
   "name": "python",
   "nbconvert_exporter": "python",
   "pygments_lexer": "ipython3",
   "version": "3.8.5"
  }
 },
 "nbformat": 4,
 "nbformat_minor": 4
}

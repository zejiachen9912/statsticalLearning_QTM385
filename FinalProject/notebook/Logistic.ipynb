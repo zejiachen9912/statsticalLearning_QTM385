{
 "cells": [
  {
   "cell_type": "code",
   "execution_count": 2,
   "metadata": {},
   "outputs": [],
   "source": [
    "import numpy as np\n",
    "import pandas as pd\n",
    "import seaborn as sns\n",
    "import matplotlib.pyplot as plt\n",
    "import nltk\n",
    "from sklearn.feature_extraction.text import CountVectorizer\n",
    "from sklearn.feature_extraction.text import TfidfVectorizer\n",
    "from sklearn.preprocessing import LabelBinarizer\n",
    "from nltk.corpus import stopwords\n",
    "from nltk.stem.porter import PorterStemmer\n",
    "from wordcloud import WordCloud,STOPWORDS\n",
    "from nltk.stem import WordNetLemmatizer\n",
    "from nltk.tokenize import word_tokenize,sent_tokenize\n",
    "from bs4 import BeautifulSoup\n",
    "import spacy\n",
    "import re,string,unicodedata\n",
    "from nltk.tokenize.toktok import ToktokTokenizer\n",
    "from nltk.stem import LancasterStemmer,WordNetLemmatizer\n",
    "from sklearn.linear_model import LogisticRegression,SGDClassifier\n",
    "from sklearn.metrics import classification_report,confusion_matrix,accuracy_score"
   ]
  },
  {
   "cell_type": "code",
   "execution_count": 3,
   "metadata": {},
   "outputs": [],
   "source": [
    "# load stopwords\n",
    "from sklearn.feature_extraction import text\n",
    "text_file = open('/Users/zejiachen/Desktop/fall 2021/QTM 340/Final Project/Notebook/jockers_stopwords.txt') # your path will be different!\n",
    "jockers_words = text_file.read().split()\n",
    "new_stopwords = text.ENGLISH_STOP_WORDS.union(jockers_words)"
   ]
  },
  {
   "cell_type": "code",
   "execution_count": 4,
   "metadata": {},
   "outputs": [],
   "source": [
    "# remove stemmed words\n",
    "english_stemmer = nltk.stem.SnowballStemmer('english')\n",
    "\n",
    "class StemmedCountVectorizer(CountVectorizer):\n",
    "    def build_analyzer(self):\n",
    "        analyzer = super(StemmedCountVectorizer, self).build_analyzer()\n",
    "        return lambda doc: ([english_stemmer.stem(w) for w in analyzer(doc)])"
   ]
  },
  {
   "cell_type": "code",
   "execution_count": 5,
   "metadata": {},
   "outputs": [
    {
     "data": {
      "text/html": [
       "<div>\n",
       "<style scoped>\n",
       "    .dataframe tbody tr th:only-of-type {\n",
       "        vertical-align: middle;\n",
       "    }\n",
       "\n",
       "    .dataframe tbody tr th {\n",
       "        vertical-align: top;\n",
       "    }\n",
       "\n",
       "    .dataframe thead th {\n",
       "        text-align: right;\n",
       "    }\n",
       "</style>\n",
       "<table border=\"1\" class=\"dataframe\">\n",
       "  <thead>\n",
       "    <tr style=\"text-align: right;\">\n",
       "      <th></th>\n",
       "      <th>review</th>\n",
       "      <th>sentiment</th>\n",
       "    </tr>\n",
       "  </thead>\n",
       "  <tbody>\n",
       "    <tr>\n",
       "      <th>0</th>\n",
       "      <td>One of the other reviewers has mentioned that ...</td>\n",
       "      <td>positive</td>\n",
       "    </tr>\n",
       "    <tr>\n",
       "      <th>1</th>\n",
       "      <td>A wonderful little production. &lt;br /&gt;&lt;br /&gt;The...</td>\n",
       "      <td>positive</td>\n",
       "    </tr>\n",
       "    <tr>\n",
       "      <th>2</th>\n",
       "      <td>I thought this was a wonderful way to spend ti...</td>\n",
       "      <td>positive</td>\n",
       "    </tr>\n",
       "    <tr>\n",
       "      <th>3</th>\n",
       "      <td>Basically there's a family where a little boy ...</td>\n",
       "      <td>negative</td>\n",
       "    </tr>\n",
       "    <tr>\n",
       "      <th>4</th>\n",
       "      <td>Petter Mattei's \"Love in the Time of Money\" is...</td>\n",
       "      <td>positive</td>\n",
       "    </tr>\n",
       "  </tbody>\n",
       "</table>\n",
       "</div>"
      ],
      "text/plain": [
       "                                              review sentiment\n",
       "0  One of the other reviewers has mentioned that ...  positive\n",
       "1  A wonderful little production. <br /><br />The...  positive\n",
       "2  I thought this was a wonderful way to spend ti...  positive\n",
       "3  Basically there's a family where a little boy ...  negative\n",
       "4  Petter Mattei's \"Love in the Time of Money\" is...  positive"
      ]
     },
     "execution_count": 5,
     "metadata": {},
     "output_type": "execute_result"
    }
   ],
   "source": [
    "df = pd.read_csv('/Users/zejiachen/Desktop/Sspring 2022/IMDB_Dataset.csv')\n",
    "df.head()"
   ]
  },
  {
   "cell_type": "code",
   "execution_count": 6,
   "metadata": {},
   "outputs": [
    {
     "data": {
      "text/plain": [
       "<AxesSubplot:xlabel='sentiment'>"
      ]
     },
     "execution_count": 6,
     "metadata": {},
     "output_type": "execute_result"
    },
    {
     "data": {
      "image/png": "[encoded data removed]",
      "text/plain": [
       "<Figure size 432x288 with 1 Axes>"
      ]
     },
     "metadata": {
      "needs_background": "light"
     },
     "output_type": "display_data"
    }
   ],
   "source": [
    "df.groupby(['sentiment']).size().plot.bar()"
   ]
  },
  {
   "cell_type": "markdown",
   "metadata": {},
   "source": [
    "---\n",
    "\n",
    "## Data Cleaning"
   ]
  },
  {
   "cell_type": "markdown",
   "metadata": {},
   "source": [
    "**Text Normalization**"
   ]
  },
  {
   "cell_type": "code",
   "execution_count": 18,
   "metadata": {},
   "outputs": [],
   "source": [
    "# load stopwords\n",
    "from sklearn.feature_extraction import text\n",
    "text_file = open('/Users/zejiachen/Desktop/fall 2021/QTM 340/Final Project/Notebook/jockers_stopwords.txt') # your path will be different!\n",
    "jockers_words = text_file.read().split()\n",
    "stopword_list = text.ENGLISH_STOP_WORDS.union(jockers_words)\n"
   ]
  },
  {
   "cell_type": "code",
   "execution_count": 20,
   "metadata": {},
   "outputs": [
    {
     "name": "stderr",
     "output_type": "stream",
     "text": [
      "[nltk_data] Downloading package stopwords to\n",
      "[nltk_data]     /Users/zejiachen/nltk_data...\n",
      "[nltk_data]   Package stopwords is already up-to-date!\n"
     ]
    }
   ],
   "source": [
    "#Setting English stopwords\n",
    "nltk.download('stopwords')\n",
    "stopword_list=nltk.corpus.stopwords.words('english')"
   ]
  },
  {
   "cell_type": "code",
   "execution_count": 10,
   "metadata": {},
   "outputs": [],
   "source": [
    "#Tokenization of text\n",
    "tokenizer=ToktokTokenizer()"
   ]
  },
  {
   "cell_type": "markdown",
   "metadata": {},
   "source": [
    "**Removing html strip and noisy text**"
   ]
  },
  {
   "cell_type": "code",
   "execution_count": 11,
   "metadata": {},
   "outputs": [],
   "source": [
    "#Removing the html strips\n",
    "def strip_html(text):\n",
    "    soup = BeautifulSoup(text, \"html.parser\")\n",
    "    return soup.get_text()\n",
    "\n",
    "#Removing the square brackets\n",
    "def remove_between_square_brackets(text):\n",
    "    return re.sub('\\[[^]]*\\]', '', text)\n",
    "\n",
    "#Removing the noisy text\n",
    "def denoise_text(text):\n",
    "    text = strip_html(text)\n",
    "    text = remove_between_square_brackets(text)\n",
    "    return text\n",
    "\n",
    "\n",
    "df['review']=df['review'].apply(denoise_text)"
   ]
  },
  {
   "cell_type": "markdown",
   "metadata": {},
   "source": [
    "**Removing Special Characters**"
   ]
  },
  {
   "cell_type": "code",
   "execution_count": 12,
   "metadata": {},
   "outputs": [],
   "source": [
    "#Define function for removing special characters\n",
    "def remove_special_characters(text, remove_digits=True):\n",
    "    pattern=r'[^a-zA-z0-9\\s]'\n",
    "    text=re.sub(pattern,'',text)\n",
    "    return text\n",
    "\n",
    "df['review']=df['review'].apply(remove_special_characters)"
   ]
  },
  {
   "cell_type": "markdown",
   "metadata": {},
   "source": [
    "**Text Stemming**"
   ]
  },
  {
   "cell_type": "code",
   "execution_count": 13,
   "metadata": {},
   "outputs": [],
   "source": [
    "#Stemming the text\n",
    "def simple_stemmer(text):\n",
    "    ps=nltk.porter.PorterStemmer()\n",
    "    text= ' '.join([ps.stem(word) for word in text.split()])\n",
    "    return text\n",
    "#Apply function on review column\n",
    "df['review']=df['review'].apply(simple_stemmer)"
   ]
  },
  {
   "cell_type": "markdown",
   "metadata": {},
   "source": [
    "**Removing Stopwords**"
   ]
  },
  {
   "cell_type": "code",
   "execution_count": 22,
   "metadata": {},
   "outputs": [
    {
     "name": "stdout",
     "output_type": "stream",
     "text": [
      "{'what', 'now', \"mustn't\", 'only', 'and', 'being', \"weren't\", 'is', 'will', 'where', 'until', 'd', 'were', \"haven't\", 'mightn', 'do', \"wouldn't\", 'o', 'they', 'nor', 'down', 'was', 'have', 'itself', 'over', 'our', 're', 'too', 'herself', \"wasn't\", \"needn't\", 'up', 'yourself', 'did', 'your', 'between', \"didn't\", 'a', 'both', 'had', 'if', 'won', 'other', 'some', 'after', 'once', 'same', 'weren', 'doing', 'because', 'further', 'himself', 'does', \"you'd\", 'from', 'no', 'yourselves', 'them', 'how', 'as', 'which', \"hadn't\", 'isn', 'him', 'the', 'at', 'when', 'shan', \"won't\", 'any', 'ourselves', 'haven', \"mightn't\", 'about', \"shan't\", 'hasn', \"you'll\", \"isn't\", \"you've\", 'those', 'again', 's', 'there', 'that', 'ain', \"should've\", 'before', 'myself', 'above', 'each', 'its', \"aren't\", 'against', 'didn', 'am', 'who', 'doesn', 'with', 'an', 'so', 'than', 'few', 'under', 'own', 'all', 'into', 'needn', 'themselves', 'while', 'by', 'in', 'here', 'through', 'to', 'out', 'ours', 'hadn', \"she's\", 'theirs', 'should', 'during', 'shouldn', 't', 'such', 'you', 'or', 'for', 'on', 'we', 'then', 'wouldn', 'i', 'aren', \"doesn't\", 'has', \"you're\", 'my', 'can', 'having', \"couldn't\", 'this', 'be', 'me', 'she', 'but', 'yours', 'ma', 'their', 'his', \"it's\", 'these', 'mustn', \"hasn't\", 'not', 'don', 'll', 'wasn', 'most', 'just', 'whom', 've', 'he', \"shouldn't\", 'y', 'below', 'more', 'm', 'her', 'hers', \"that'll\", \"don't\", 'it', 'of', 'why', 'are', 'very', 'couldn', 'been', 'off'}\n"
     ]
    }
   ],
   "source": [
    "#set stopwords to english\n",
    "stop=set(stopwords.words('english'))\n",
    "print(stop)\n",
    "\n",
    "#removing the stopwords\n",
    "def remove_stopwords(text, is_lower_case=False):\n",
    "    tokens = tokenizer.tokenize(text)\n",
    "    tokens = [token.strip() for token in tokens]\n",
    "    if is_lower_case:\n",
    "        filtered_tokens = [token for token in tokens if token not in stopword_list]\n",
    "    else:\n",
    "        filtered_tokens = [token for token in tokens if token.lower() not in stopword_list]\n",
    "    filtered_text = ' '.join(filtered_tokens)    \n",
    "    return filtered_text\n",
    "#Apply function on review column\n",
    "df['review']=df['review'].apply(remove_stopwords)"
   ]
  },
  {
   "cell_type": "markdown",
   "metadata": {},
   "source": [
    "---\n",
    "## Generating document-term matrix"
   ]
  },
  {
   "cell_type": "code",
   "execution_count": 78,
   "metadata": {},
   "outputs": [
    {
     "name": "stdout",
     "output_type": "stream",
     "text": [
      "40000 5000 5000\n"
     ]
    }
   ],
   "source": [
    "# train set: 40000 observation, validation set: 5000 observation, final test set: 5000 observation\n",
    "np.random.seed(0)\n",
    "df_train, df_val, df_test = np.split(df.sample(frac=1, random_state=1), \n",
    "                                     [int(.8*len(df)), int(.9*len(df))])\n",
    "\n",
    "print(len(df_train),len(df_val), len(df_test))\n",
    "\n",
    "review_trn = df_train[['review']]\n",
    "sentiment_trn = df_train[['sentiment']]\n",
    "\n",
    "review_val = df_val[['review']]\n",
    "sentiment_val = df_val[['sentiment']]\n",
    "\n",
    "review_test = df_test[['review']]\n",
    "sentiment_test = df_test[['sentiment']]"
   ]
  },
  {
   "cell_type": "code",
   "execution_count": 79,
   "metadata": {},
   "outputs": [
    {
     "data": {
      "text/plain": [
       "'one review ha mention watch 1 Oz episod youll hook right thi exactli happen meth first thing struck Oz wa brutal unflinch scene violenc set right word GO trust thi show faint heart timid thi show pull punch regard drug sex violenc hardcor classic use wordit call OZ nicknam given oswald maximum secur state penitentari focus mainli emerald citi experiment section prison cell glass front face inward privaci high agenda Em citi home manyaryan muslim gangsta latino christian italian irish moreso scuffl death stare dodgi deal shadi agreement never far awayi would say main appeal show due fact goe show wouldnt dare forget pretti pictur paint mainstream audienc forget charm forget romanceoz doesnt mess around first episod ever saw struck nasti wa surreal couldnt say wa readi watch develop tast Oz got accustom high level graphic violenc violenc injustic crook guard wholl sold nickel inmat wholl kill order get away well manner middl class inmat turn prison bitch due lack street skill prison experi watch Oz may becom comfort uncomfort viewingthat get touch darker side'"
      ]
     },
     "execution_count": 79,
     "metadata": {},
     "output_type": "execute_result"
    }
   ],
   "source": [
    "review_trn['review'][0]"
   ]
  },
  {
   "cell_type": "code",
   "execution_count": 46,
   "metadata": {},
   "outputs": [
    {
     "data": {
      "text/plain": [
       "'origin relax watch truli memor anim sequenc unfortun sequel worst dtv sequel complet lack sparkleth biggest letdown lack stori like bell magic world charact told seri vignett magic world margin better still manag make mess stori vignett see mice work person think antic jaq gu redeem merit thi movieth first vignett best cinderella get use princess thi best becaus mice funniest worst vignett jaq turn human cute time ha lack imagin last vignett anastasia fall love wa also cute problem wa couldnt imagin anastasia friendli cinderella consid meaner stepsist thi wa also mar rather ridicul subplot lucif fall love pompomth incident music wa veri pleasant listen tohowev hate song realli uninspir noth like beauti tchaikovski inspir melodi originalth charact strongest develop cinderella still care lost sincer lot charm origin though doe wear veri pretti cloth duke truli funni moment werent enough save film likewis prudenc king mention mice redeem merit movi alon contribut film cute say also anim colour abov averag voic act wa surprisingli goodal cute unorigin sequel wa mar song lack stori 410 mice voic act anim pretti dress bethani cox'"
      ]
     },
     "execution_count": 46,
     "metadata": {},
     "output_type": "execute_result"
    }
   ],
   "source": [
    "review_val['review'][27192]"
   ]
  },
  {
   "cell_type": "code",
   "execution_count": 52,
   "metadata": {},
   "outputs": [
    {
     "data": {
      "text/plain": [
       "'dure make thi movi onc caught statement televis someth like killinggnget take nazismso comprehens thi movi wa begin get notion nazism recent see thi movi tvversion thi filter befor wasnt difficult see thisstrang enough havent met thi way interpret film ever sinc first heard itthes thing found four shade brown four stori lack empathi lead disaster1 crematorywork show realist empathi dead anim say goodby crematoryroom deal death fire almost like cheer game serious death fire emphas father hi boy accordingli ignor push button lead disast injur hi father severelyposs lesson import show young adequ emot grow need know behavior lead disast emot lead good2th magician maneuv hi wife like invis puppet think ha begun cut string master hand reach person integr joy pull hard back desol despairtheir son ha tri revolt creat hi life perfect good tast opposit hi parent bad tast real problem carri within far comprehens hi father behavior pass suffoc hi wife hi spotless environmentposs lesson oppress breed bondage3th father wa abus child pass sadism hi children cheat inherit rob childhood end even inheritanceposs lesson love given cannot give any4th father abus hi daughter creat ruthless reveng sadist aggress ice cold nazisad becom veri obviou physic violenc give possibl background somewhat plausibl explan action young scinheadnazist behavior oppress possibl lesson nazism take birth pervert homecan hideou consequ ignor empathi famili life long run room given sadist nazism veri seldom doe movi contain much reveal littl littl medit consid brilliantli paint actor superb especi niceseem bloke play ulf brunnberg turn worst'"
      ]
     },
     "execution_count": 52,
     "metadata": {},
     "output_type": "execute_result"
    }
   ],
   "source": [
    "review_test['review'][27436]"
   ]
  },
  {
   "cell_type": "markdown",
   "metadata": {},
   "source": [
    "**Bags of words model**"
   ]
  },
  {
   "cell_type": "code",
   "execution_count": 64,
   "metadata": {},
   "outputs": [
    {
     "name": "stdout",
     "output_type": "stream",
     "text": [
      "BOW_cv_train: (40000, 6194496)\n",
      "BOW_cv_validation: (5000, 6194496)\n",
      "BOW_cv_test: (5000, 6194496)\n"
     ]
    }
   ],
   "source": [
    "#Count vectorizer for bag of words\n",
    "cv=CountVectorizer(min_df=0,max_df=1,binary=False,ngram_range=(1,3))\n",
    "#transformed train reviews\n",
    "cv_train_reviews=cv.fit_transform(review_trn['review'])\n",
    "#transformed validation reviews\n",
    "cv_val_reviews=cv.transform(review_val['review'])\n",
    "#transformed test reviews\n",
    "cv_test_reviews=cv.transform(review_test['review'])\n",
    "\n",
    "print('BOW_cv_train:' ,cv_train_reviews.shape)\n",
    "print('BOW_cv_validation:', cv_val_reviews.shape)\n",
    "print('BOW_cv_test:', cv_test_reviews.shape)\n",
    "#vocab=cv.get_feature_names()-toget feature name"
   ]
  },
  {
   "cell_type": "markdown",
   "metadata": {},
   "source": [
    "**Term Frequency-Inverse Document Frequency model (TFIDF)**"
   ]
  },
  {
   "cell_type": "code",
   "execution_count": 66,
   "metadata": {},
   "outputs": [
    {
     "name": "stdout",
     "output_type": "stream",
     "text": [
      "Tfidf_train: (40000, 6194496)\n",
      "Tfidf_validation: (5000, 6194496)\n",
      "Tfidf_test: (5000, 6194496)\n"
     ]
    }
   ],
   "source": [
    "#Tfidf vectorizer\n",
    "tv=TfidfVectorizer(min_df=0,max_df=1,use_idf=True,ngram_range=(1,3))\n",
    "#transformed train reviews\n",
    "tv_train_reviews=tv.fit_transform(review_trn['review'])\n",
    "#transformed validation reviews\n",
    "tv_val_reviews=tv.transform(review_val['review'])\n",
    "#transformed test reviews\n",
    "tv_test_reviews=tv.transform(review_test['review'])\n",
    "print('Tfidf_train:',tv_train_reviews.shape)\n",
    "print('Tfidf_validation:',tv_val_reviews.shape)\n",
    "print('Tfidf_test:',tv_test_reviews.shape)"
   ]
  },
  {
   "cell_type": "markdown",
   "metadata": {},
   "source": [
    "**Labeling the sentiment text**"
   ]
  },
  {
   "cell_type": "code",
   "execution_count": 85,
   "metadata": {},
   "outputs": [
    {
     "name": "stdout",
     "output_type": "stream",
     "text": [
      "sentiment_train:  (40000, 1)\n",
      "sentiment_val:  (5000, 1)\n",
      "sentiment_test:  (5000, 1)\n"
     ]
    }
   ],
   "source": [
    "#labeling the sentient data\n",
    "lb=LabelBinarizer()\n",
    "\n",
    "#transformed sentiment data\n",
    "sentiment_trnBi=lb.fit_transform(sentiment_trn['sentiment'])\n",
    "sentiment_valBi = lb.transform(sentiment_val['sentiment'])\n",
    "sentiment_testBi = lb.transform(sentiment_test['sentiment'])\n",
    "print('sentiment_train: ', sentiment_trnBi.shape)\n",
    "print('sentiment_val: ', sentiment_valBi.shape)\n",
    "print('sentiment_test: ', sentiment_testBi.shape)"
   ]
  },
  {
   "cell_type": "markdown",
   "metadata": {},
   "source": [
    "---\n",
    "## Logistic Regression"
   ]
  },
  {
   "cell_type": "markdown",
   "metadata": {},
   "source": [
    "Build logistic regression model for both bag of words and tfidf features"
   ]
  },
  {
   "cell_type": "code",
   "execution_count": 90,
   "metadata": {},
   "outputs": [
    {
     "name": "stderr",
     "output_type": "stream",
     "text": [
      "/opt/anaconda3/lib/python3.8/site-packages/sklearn/utils/validation.py:72: DataConversionWarning: A column-vector y was passed when a 1d array was expected. Please change the shape of y to (n_samples, ), for example using ravel().\n",
      "  return f(**kwargs)\n"
     ]
    },
    {
     "name": "stdout",
     "output_type": "stream",
     "text": [
      "LogisticRegression(C=1, max_iter=500, random_state=42)\n"
     ]
    },
    {
     "name": "stderr",
     "output_type": "stream",
     "text": [
      "/opt/anaconda3/lib/python3.8/site-packages/sklearn/utils/validation.py:72: DataConversionWarning: A column-vector y was passed when a 1d array was expected. Please change the shape of y to (n_samples, ), for example using ravel().\n",
      "  return f(**kwargs)\n"
     ]
    },
    {
     "name": "stdout",
     "output_type": "stream",
     "text": [
      "LogisticRegression(C=1, max_iter=500, random_state=42)\n"
     ]
    }
   ],
   "source": [
    "#training the model\n",
    "lr=LogisticRegression(penalty='l2',max_iter=500,C=1,random_state=42)\n",
    "#Fitting the model for Bag of words\n",
    "lr_bow=lr.fit(cv_train_reviews,sentiment_trnBi)\n",
    "print(lr_bow)\n",
    "\n",
    "#Fitting the model for tfidf features\n",
    "lr_tfidf=lr.fit(tv_train_reviews,sentiment_trnBi)\n",
    "print(lr_tfidf)"
   ]
  },
  {
   "cell_type": "markdown",
   "metadata": {},
   "source": [
    "Accuracy of the model on **validation set**"
   ]
  },
  {
   "cell_type": "code",
   "execution_count": 93,
   "metadata": {},
   "outputs": [
    {
     "name": "stdout",
     "output_type": "stream",
     "text": [
      "[0 1 0 ... 1 1 0]\n",
      "[0 1 0 ... 1 1 0]\n"
     ]
    }
   ],
   "source": [
    "#Predicting the model for bag of words\n",
    "lr_bow_predict_val=lr.predict(cv_val_reviews)\n",
    "print(lr_bow_predict_val)\n",
    "\n",
    "##Predicting the model for tfidf features\n",
    "lr_tfidf_predict_val=lr.predict(tv_val_reviews)\n",
    "print(lr_tfidf_predict_val)"
   ]
  },
  {
   "cell_type": "code",
   "execution_count": 96,
   "metadata": {},
   "outputs": [
    {
     "name": "stdout",
     "output_type": "stream",
     "text": [
      "lr_bow_score on validation : 0.7402\n",
      "lr_tfidf_score on validation : 0.7424\n"
     ]
    }
   ],
   "source": [
    "#Accuracy score for bag of words\n",
    "lr_bow_score_val=accuracy_score(sentiment_valBi,lr_bow_predict_val)\n",
    "print(\"lr_bow_score on validation :\",lr_bow_score_val)\n",
    "#Accuracy score for tfidf features\n",
    "lr_tfidf_score_val=accuracy_score(sentiment_valBi,lr_tfidf_predict_val)\n",
    "print(\"lr_tfidf_score on validation :\",lr_tfidf_score_val)"
   ]
  },
  {
   "cell_type": "code",
   "execution_count": 102,
   "metadata": {},
   "outputs": [
    {
     "data": {
      "image/png": "[encoded data removed]",
      "text/plain": [
       "<Figure size 432x288 with 2 Axes>"
      ]
     },
     "metadata": {
      "needs_background": "light"
     },
     "output_type": "display_data"
    }
   ],
   "source": [
    "import matplotlib.pyplot as plt\n",
    "from sklearn.metrics import confusion_matrix, ConfusionMatrixDisplay\n",
    "\n",
    "#confusion matrix for bag of words\n",
    "cm_bow=confusion_matrix(sentiment_valBi,lr_bow_predict_val,labels=[1,0])\n",
    "\n",
    "disp = ConfusionMatrixDisplay(confusion_matrix=cm_bow, display_labels=['positive','negative'])\n",
    "\n",
    "disp.plot()\n",
    "plt.show()"
   ]
  },
  {
   "cell_type": "code",
   "execution_count": 103,
   "metadata": {},
   "outputs": [
    {
     "name": "stdout",
     "output_type": "stream",
     "text": [
      "[[1838  665]\n",
      " [ 623 1874]]\n"
     ]
    },
    {
     "data": {
      "image/png": "[encoded data removed]",
      "text/plain": [
       "<Figure size 432x288 with 2 Axes>"
      ]
     },
     "metadata": {
      "needs_background": "light"
     },
     "output_type": "display_data"
    }
   ],
   "source": [
    "#confusion matrix for tfidf features\n",
    "cm_tfidf=confusion_matrix(sentiment_valBi,lr_tfidf_predict_val,labels=[1,0])\n",
    "print(cm_tfidf)\n",
    "\n",
    "disp = ConfusionMatrixDisplay(confusion_matrix=cm_tfidf, display_labels=['positive','negative'])\n",
    "\n",
    "disp.plot()\n",
    "plt.show()"
   ]
  },
  {
   "cell_type": "markdown",
   "metadata": {},
   "source": [
    "Accuracy of the model on **test set**"
   ]
  },
  {
   "cell_type": "code",
   "execution_count": 97,
   "metadata": {},
   "outputs": [
    {
     "name": "stdout",
     "output_type": "stream",
     "text": [
      "[1 1 1 ... 0 0 1]\n",
      "[1 1 1 ... 0 0 1]\n"
     ]
    }
   ],
   "source": [
    "#Predicting the model for bag of words\n",
    "lr_bow_predict_test=lr.predict(cv_test_reviews)\n",
    "print(lr_bow_predict_test)\n",
    "\n",
    "##Predicting the model for tfidf features\n",
    "lr_tfidf_predict_test=lr.predict(tv_test_reviews)\n",
    "print(lr_tfidf_predict_test)"
   ]
  },
  {
   "cell_type": "code",
   "execution_count": 99,
   "metadata": {},
   "outputs": [
    {
     "name": "stdout",
     "output_type": "stream",
     "text": [
      "lr_bow_score on test set : 0.7516\n",
      "lr_tfidf_score on test set : 0.749\n"
     ]
    }
   ],
   "source": [
    "#Accuracy score for bag of words\n",
    "lr_bow_score_test=accuracy_score(sentiment_testBi,lr_bow_predict_test)\n",
    "print(\"lr_bow_score on test set :\",lr_bow_score_test)\n",
    "#Accuracy score for tfidf features\n",
    "lr_tfidf_score_test=accuracy_score(sentiment_testBi,lr_tfidf_predict_test)\n",
    "print(\"lr_tfidf_score on test set :\",lr_tfidf_score_test)"
   ]
  },
  {
   "cell_type": "code",
   "execution_count": 105,
   "metadata": {},
   "outputs": [
    {
     "name": "stdout",
     "output_type": "stream",
     "text": [
      "[[1882  610]\n",
      " [ 632 1876]]\n"
     ]
    },
    {
     "data": {
      "image/png": "[encoded data removed]",
      "text/plain": [
       "<Figure size 432x288 with 2 Axes>"
      ]
     },
     "metadata": {
      "needs_background": "light"
     },
     "output_type": "display_data"
    }
   ],
   "source": [
    "import matplotlib.pyplot as plt\n",
    "from sklearn.metrics import confusion_matrix, ConfusionMatrixDisplay\n",
    "\n",
    "#confusion matrix for bag of words\n",
    "cm_bow=confusion_matrix(sentiment_testBi,lr_bow_predict_test,labels=[1,0])\n",
    "print(cm_bow)\n",
    "\n",
    "disp = ConfusionMatrixDisplay(confusion_matrix=cm_bow, display_labels=['positive','negative'])\n",
    "\n",
    "disp.plot()\n",
    "plt.show()"
   ]
  },
  {
   "cell_type": "code",
   "execution_count": 106,
   "metadata": {},
   "outputs": [
    {
     "name": "stdout",
     "output_type": "stream",
     "text": [
      "[[1848  644]\n",
      " [ 611 1897]]\n"
     ]
    },
    {
     "data": {
      "image/png": "[encoded data removed]",
      "text/plain": [
       "<Figure size 432x288 with 2 Axes>"
      ]
     },
     "metadata": {
      "needs_background": "light"
     },
     "output_type": "display_data"
    }
   ],
   "source": [
    "#confusion matrix for tfidf features\n",
    "cm_tfidf=confusion_matrix(sentiment_testBi,lr_tfidf_predict_test,labels=[1,0])\n",
    "print(cm_tfidf)\n",
    "\n",
    "disp = ConfusionMatrixDisplay(confusion_matrix=cm_tfidf, display_labels=['positive','negative'])\n",
    "\n",
    "disp.plot()\n",
    "plt.show()"
   ]
  },
  {
   "cell_type": "markdown",
   "metadata": {},
   "source": [
    "---\n",
    "## How Logistic Regression makes its decisions (P-val & weight)"
   ]
  },
  {
   "cell_type": "code",
   "execution_count": null,
   "metadata": {},
   "outputs": [],
   "source": []
  }
 ],
 "metadata": {
  "kernelspec": {
   "display_name": "Python 3",
   "language": "python",
   "name": "python3"
  },
  "language_info": {
   "codemirror_mode": {
    "name": "ipython",
    "version": 3
   },
   "file_extension": ".py",
   "mimetype": "text/x-python",
   "name": "python",
   "nbconvert_exporter": "python",
   "pygments_lexer": "ipython3",
   "version": "3.8.5"
  }
 },
 "nbformat": 4,
 "nbformat_minor": 4
}
